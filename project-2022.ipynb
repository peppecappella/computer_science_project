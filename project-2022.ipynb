{
 "cells": [
  {
   "cell_type": "markdown",
   "id": "59f3504e-dcfa-4547-914a-514ab3c2d7bd",
   "metadata": {},
   "source": [
    "### IMPORTAZIONE LIBRERIE E DATASET"
   ]
  },
  {
   "cell_type": "code",
   "execution_count": 12,
   "id": "9ce858ec-9498-4989-b18c-64b4939114e3",
   "metadata": {},
   "outputs": [
    {
     "name": "stderr",
     "output_type": "stream",
     "text": [
      "[nltk_data] Downloading package stopwords to\n",
      "[nltk_data]     C:\\Users\\Notebook\\AppData\\Roaming\\nltk_data...\n",
      "[nltk_data]   Package stopwords is already up-to-date!\n"
     ]
    }
   ],
   "source": [
    "import pandas as pd\n",
    "import zipfile\n",
    "import numpy as np\n",
    "import nltk\n",
    "import string\n",
    "import time\n",
    "nltk.download('stopwords')\n",
    "from nltk.corpus import stopwords\n",
    "from itertools import combinations\n",
    "from sklearn.feature_extraction.text import CountVectorizer\n",
    "from sklearn.metrics.pairwise import cosine_similarity"
   ]
  },
  {
   "cell_type": "code",
   "execution_count": 13,
   "id": "e34b38e8-2d3e-4e49-96c2-27eeddd69704",
   "metadata": {},
   "outputs": [],
   "source": [
    "pd.options.display.max_columns = None\n",
    "pd.options.display.max_rows = None\n",
    "\n",
    "zip_file_path = \"adoptions/dog.zip\"\n",
    "csv_file_name = \"dogs.csv\"\n",
    "zip_file_path2 = \"adoptions/dogtravel.zip\"\n",
    "csv_file_name2 = \"dogTravel.csv\"\n",
    "\n",
    "with zipfile.ZipFile(zip_file_path) as zip_file:\n",
    "    with zip_file.open(csv_file_name) as csv_file:\n",
    "        df = pd.read_csv(csv_file)\n",
    "        \n",
    "with zipfile.ZipFile(zip_file_path2) as zip_file:\n",
    "    with zip_file.open(csv_file_name2) as csv_file:\n",
    "        df2 = pd.read_csv(csv_file)\n",
    "        \n",
    "cnt = pd.read_csv('countries.csv')"
   ]
  },
  {
   "cell_type": "code",
   "execution_count": 14,
   "id": "166072a9-fdfa-423d-9388-4b2b2c941c72",
   "metadata": {},
   "outputs": [],
   "source": [
    "#df.to_csv(\"prova1.csv\")"
   ]
  },
  {
   "cell_type": "markdown",
   "id": "8ee192aa-7d54-4bbf-bc58-dbe9f8cc7a33",
   "metadata": {},
   "source": [
    "### DATA CLEANING "
   ]
  },
  {
   "cell_type": "markdown",
   "id": "9073573c-8721-49ee-a214-266d8f737f3f",
   "metadata": {},
   "source": [
    "MODIFICA DATE"
   ]
  },
  {
   "cell_type": "code",
   "execution_count": 16,
   "id": "91727334-d3ec-4bcf-afc4-65314183e993",
   "metadata": {},
   "outputs": [],
   "source": [
    "# Uso una regex per identificare le date e le NON DATE\n",
    "is_date = df['posted'].str.contains('\\d{4}-\\d{2}-\\d{2}T\\d{2}:\\d{2}:\\d{2}\\+\\d{4}')\n",
    "\n",
    "is_date = is_date.reset_index(drop=True)\n",
    "not_date = ~is_date\n",
    "#creo due dataset\n",
    "not_date = df[~is_date]\n",
    "is_date=df[is_date]\n",
    "#creo una copia di not_date\n",
    "new_not_date = not_date.copy()\n",
    "#sposto i valori di una colonna a destra\n",
    "new_not_date['accessed'] = new_not_date['stateQ']\n",
    "new_not_date['stateQ'] = new_not_date['contact_country']\n",
    "new_not_date['contact_country'] = new_not_date['contact_zip']\n",
    "new_not_date['contact_zip'] = new_not_date['contact_state']\n",
    "new_not_date['contact_state'] = new_not_date['contact_city']\n",
    "new_not_date['contact_city'] = new_not_date['posted']\n",
    "new_not_date['posted'] = new_not_date['status']\n",
    "#assegno adoptable a tutte le righe di status\n",
    "new_not_date['status']='adoptable'\n",
    "# Unione di is_date e new_not_date\n",
    "new = pd.concat([is_date, new_not_date], axis=0)\n",
    "# Riordino le righe in base all'indice del dataframe di partenza\n",
    "new = new.reindex(index=df.index)\n",
    "new.shape\n",
    "df=new"
   ]
  },
  {
   "cell_type": "markdown",
   "id": "9fccb7a9-8b09-4e88-a73f-f9d04038463c",
   "metadata": {},
   "source": [
    "MODIFICA STATEQ"
   ]
  },
  {
   "cell_type": "code",
   "execution_count": 17,
   "id": "1f6873d1-ba9e-412c-925a-637be9c9f12f",
   "metadata": {},
   "outputs": [],
   "source": [
    "#IMPORTO COUNTRIES \n",
    "cnt = pd.read_csv('countries.csv')\n",
    "cnt = cnt.astype(str)\n",
    "\n",
    "state_groups = cnt.groupby('STATE')\n",
    "#creo un dizionario vuoto\n",
    "state_zips = {}\n",
    "\n",
    "# loop sugli stati\n",
    "for state_name, state_group in state_groups:\n",
    "    # estraggo gli zip code\n",
    "    state_zips[state_name] = state_group['ZIP'].tolist()\n"
   ]
  },
  {
   "cell_type": "code",
   "execution_count": 18,
   "id": "c8fe6f0f-42f0-4f4a-8d84-48c7a1901c2d",
   "metadata": {},
   "outputs": [],
   "source": [
    "import re\n",
    "\n",
    "zip_codes = [zip_code for zips in state_zips.values() for zip_code in zips]\n",
    "#regex per identificare i numeri a 5 cifre\n",
    "num_regex = re.compile(r'^\\d{5}$')\n",
    "\n",
    "# Ciclo sui valori di StateQ\n",
    "for i, state in enumerate(df['stateQ'].astype(str).str.strip().tolist()):\n",
    "    # controllo che stateq è un numero a 5 cifre ed è presente in zip_codes\n",
    "    if num_regex.match(state) and state in zip_codes:\n",
    "        # trova il valore nel dizionario\n",
    "        for key, value in state_zips.items():\n",
    "            if state in value:\n",
    "                # sostituisce il valore\n",
    "                df.at[i, 'stateQ'] = key"
   ]
  },
  {
   "cell_type": "code",
   "execution_count": 19,
   "id": "b70dcd7e-b2c8-46be-9c1d-17545128a079",
   "metadata": {},
   "outputs": [],
   "source": [
    "#df.head()"
   ]
  },
  {
   "cell_type": "markdown",
   "id": "58aaa096-6710-49f4-a490-c68735f0fce0",
   "metadata": {},
   "source": [
    "## 1. Extract all dogs with status that is not adoptable¶\n"
   ]
  },
  {
   "cell_type": "code",
   "execution_count": 20,
   "id": "105584d8-fd0a-450c-82e1-555421ecaab7",
   "metadata": {},
   "outputs": [
    {
     "data": {
      "text/html": [
       "<div>\n",
       "<style scoped>\n",
       "    .dataframe tbody tr th:only-of-type {\n",
       "        vertical-align: middle;\n",
       "    }\n",
       "\n",
       "    .dataframe tbody tr th {\n",
       "        vertical-align: top;\n",
       "    }\n",
       "\n",
       "    .dataframe thead th {\n",
       "        text-align: right;\n",
       "    }\n",
       "</style>\n",
       "<table border=\"1\" class=\"dataframe\">\n",
       "  <thead>\n",
       "    <tr style=\"text-align: right;\">\n",
       "      <th></th>\n",
       "      <th>id</th>\n",
       "      <th>org_id</th>\n",
       "      <th>url</th>\n",
       "      <th>type.x</th>\n",
       "      <th>species</th>\n",
       "      <th>breed_primary</th>\n",
       "      <th>breed_secondary</th>\n",
       "      <th>breed_mixed</th>\n",
       "      <th>breed_unknown</th>\n",
       "      <th>color_primary</th>\n",
       "      <th>color_secondary</th>\n",
       "      <th>color_tertiary</th>\n",
       "      <th>age</th>\n",
       "      <th>sex</th>\n",
       "      <th>size</th>\n",
       "      <th>coat</th>\n",
       "      <th>fixed</th>\n",
       "      <th>house_trained</th>\n",
       "      <th>declawed</th>\n",
       "      <th>special_needs</th>\n",
       "      <th>shots_current</th>\n",
       "      <th>env_children</th>\n",
       "      <th>env_dogs</th>\n",
       "      <th>env_cats</th>\n",
       "      <th>name</th>\n",
       "      <th>status</th>\n",
       "      <th>posted</th>\n",
       "      <th>contact_city</th>\n",
       "      <th>contact_state</th>\n",
       "      <th>contact_zip</th>\n",
       "      <th>contact_country</th>\n",
       "      <th>stateQ</th>\n",
       "      <th>accessed</th>\n",
       "      <th>type.y</th>\n",
       "      <th>description</th>\n",
       "      <th>stay_duration</th>\n",
       "      <th>stay_cost</th>\n",
       "    </tr>\n",
       "  </thead>\n",
       "  <tbody>\n",
       "  </tbody>\n",
       "</table>\n",
       "</div>"
      ],
      "text/plain": [
       "Empty DataFrame\n",
       "Columns: [id, org_id, url, type.x, species, breed_primary, breed_secondary, breed_mixed, breed_unknown, color_primary, color_secondary, color_tertiary, age, sex, size, coat, fixed, house_trained, declawed, special_needs, shots_current, env_children, env_dogs, env_cats, name, status, posted, contact_city, contact_state, contact_zip, contact_country, stateQ, accessed, type.y, description, stay_duration, stay_cost]\n",
       "Index: []"
      ]
     },
     "execution_count": 20,
     "metadata": {},
     "output_type": "execute_result"
    }
   ],
   "source": [
    "is_not_adottable=df['status'] != 'adoptable'\n",
    "non_adottabili=df[is_not_adottable]\n",
    "non_adottabili"
   ]
  },
  {
   "cell_type": "code",
   "execution_count": 21,
   "id": "f0636ca8-de80-41f1-ad91-676db342b63c",
   "metadata": {},
   "outputs": [
    {
     "name": "stdout",
     "output_type": "stream",
     "text": [
      "Non ci sono status non adoptable, le date al posto dei valori adoptable sono stati rimossi nel processo di data cleaning e sono state sostituite con il valore piu frequente della colonna: adoptable, che aveva un numero di record di 58147 sul totale di 58180\n"
     ]
    }
   ],
   "source": [
    "print(\"Non ci sono status non adoptable, le date al posto dei valori adoptable sono stati rimossi nel processo di data cleaning e sono state sostituite con il valore piu frequente della colonna: adoptable, che aveva un numero di record di 58147 sul totale di 58180\")\n",
    "#\n",
    "#"
   ]
  },
  {
   "cell_type": "markdown",
   "id": "fcd81dac-9ec8-4a8f-be33-913b10f3bee6",
   "metadata": {},
   "source": [
    "## 2. For each (primary) breed, determine the number of dogs¶"
   ]
  },
  {
   "cell_type": "code",
   "execution_count": 22,
   "id": "a075af97-a938-42bf-b50b-e674bf57cd70",
   "metadata": {},
   "outputs": [
    {
     "data": {
      "text/plain": [
       "(216,)"
      ]
     },
     "execution_count": 22,
     "metadata": {},
     "output_type": "execute_result"
    }
   ],
   "source": [
    "breeds = df.groupby('breed_primary').size()\n",
    "breeds.shape"
   ]
  },
  {
   "cell_type": "code",
   "execution_count": 23,
   "id": "2640edae-b84d-480e-b931-656478f49bcf",
   "metadata": {},
   "outputs": [
    {
     "data": {
      "text/plain": [
       "breed_primary\n",
       "Affenpinscher                  17\n",
       "Afghan Hound                    4\n",
       "Airedale Terrier               19\n",
       "Akbash                          3\n",
       "Akita                         181\n",
       "Alaskan Malamute               72\n",
       "American Bulldog             1134\n",
       "American Eskimo Dog            43\n",
       "American Foxhound              17\n",
       "American Hairless Terrier       4\n",
       "dtype: int64"
      ]
     },
     "execution_count": 23,
     "metadata": {},
     "output_type": "execute_result"
    }
   ],
   "source": [
    "breeds.head(10)"
   ]
  },
  {
   "cell_type": "markdown",
   "id": "2a8513c8-9fef-4c39-b8fe-24f6050bef11",
   "metadata": {},
   "source": [
    "## 3. For each (primary) breed, determine the ratio between the number of dogs of `Mixed Breed` and those not of Mixed Breed. Hint: look at the `secondary_breed`."
   ]
  },
  {
   "cell_type": "code",
   "execution_count": 24,
   "id": "83d953ed-1bfd-4008-821a-86786bb7d023",
   "metadata": {},
   "outputs": [],
   "source": [
    "is_mixed=(df[\"breed_mixed\"]==True)|(df[\"breed_primary\"]==\"Mixed Breed\")\n",
    "mixed=df[is_mixed]\n",
    "colmix=mixed[\"breed_primary\"]\n",
    "is_not_mixed= (df[\"breed_mixed\"]==False)&(df[\"breed_primary\"]!=\"Mixed Breed\")\n",
    "not_mixed=df[is_not_mixed]\n",
    "colnmix=not_mixed[\"breed_primary\"]"
   ]
  },
  {
   "cell_type": "markdown",
   "id": "9e486d6e-b083-4bee-a5e7-9a177803f374",
   "metadata": {},
   "source": [
    "### calcolo del ratio "
   ]
  },
  {
   "cell_type": "code",
   "execution_count": 25,
   "id": "f1d96d53-3db8-4477-accc-f8a675314516",
   "metadata": {},
   "outputs": [
    {
     "data": {
      "text/plain": [
       "(216, 4)"
      ]
     },
     "execution_count": 25,
     "metadata": {},
     "output_type": "execute_result"
    }
   ],
   "source": [
    "colmix_counts = colmix.value_counts()\n",
    "colnmix_counts = colnmix.value_counts()\n",
    "\n",
    "ratio_data = []\n",
    "for breed, count in df['breed_primary'].value_counts().items():\n",
    "    colmix_count = colmix_counts.get(breed, 0)\n",
    "    colnmix_count = colnmix_counts.get(breed, 0)\n",
    "    \n",
    "    if colnmix_count == 0:\n",
    "        ratio = float('inf')\n",
    "    else:\n",
    "        ratio = round(colmix_count / colnmix_count, 2)\n",
    "        \n",
    "    ratio_data.append({\n",
    "        'breed': breed,\n",
    "        'mixed_count': colmix_count,\n",
    "        'non_mixed_count': colnmix_count,\n",
    "        'ratio': ratio\n",
    "    })\n",
    "\n",
    "ratio = pd.DataFrame(ratio_data)\n",
    "ratio = ratio.sort_values(\"breed\")\n",
    "ratio.shape"
   ]
  },
  {
   "cell_type": "code",
   "execution_count": 26,
   "id": "4bd8ad27-4488-4f16-adc3-0e24c6405b99",
   "metadata": {},
   "outputs": [
    {
     "data": {
      "text/html": [
       "<div>\n",
       "<style scoped>\n",
       "    .dataframe tbody tr th:only-of-type {\n",
       "        vertical-align: middle;\n",
       "    }\n",
       "\n",
       "    .dataframe tbody tr th {\n",
       "        vertical-align: top;\n",
       "    }\n",
       "\n",
       "    .dataframe thead th {\n",
       "        text-align: right;\n",
       "    }\n",
       "</style>\n",
       "<table border=\"1\" class=\"dataframe\">\n",
       "  <thead>\n",
       "    <tr style=\"text-align: right;\">\n",
       "      <th></th>\n",
       "      <th>breed</th>\n",
       "      <th>mixed_count</th>\n",
       "      <th>non_mixed_count</th>\n",
       "      <th>ratio</th>\n",
       "    </tr>\n",
       "  </thead>\n",
       "  <tbody>\n",
       "    <tr>\n",
       "      <th>127</th>\n",
       "      <td>Affenpinscher</td>\n",
       "      <td>5</td>\n",
       "      <td>12</td>\n",
       "      <td>0.42</td>\n",
       "    </tr>\n",
       "    <tr>\n",
       "      <th>177</th>\n",
       "      <td>Afghan Hound</td>\n",
       "      <td>4</td>\n",
       "      <td>0</td>\n",
       "      <td>inf</td>\n",
       "    </tr>\n",
       "    <tr>\n",
       "      <th>121</th>\n",
       "      <td>Airedale Terrier</td>\n",
       "      <td>17</td>\n",
       "      <td>2</td>\n",
       "      <td>8.50</td>\n",
       "    </tr>\n",
       "    <tr>\n",
       "      <th>185</th>\n",
       "      <td>Akbash</td>\n",
       "      <td>2</td>\n",
       "      <td>1</td>\n",
       "      <td>2.00</td>\n",
       "    </tr>\n",
       "    <tr>\n",
       "      <th>49</th>\n",
       "      <td>Akita</td>\n",
       "      <td>83</td>\n",
       "      <td>98</td>\n",
       "      <td>0.85</td>\n",
       "    </tr>\n",
       "  </tbody>\n",
       "</table>\n",
       "</div>"
      ],
      "text/plain": [
       "                breed  mixed_count  non_mixed_count  ratio\n",
       "127     Affenpinscher            5               12   0.42\n",
       "177      Afghan Hound            4                0    inf\n",
       "121  Airedale Terrier           17                2   8.50\n",
       "185            Akbash            2                1   2.00\n",
       "49              Akita           83               98   0.85"
      ]
     },
     "execution_count": 26,
     "metadata": {},
     "output_type": "execute_result"
    }
   ],
   "source": [
    "ratio.head()"
   ]
  },
  {
   "cell_type": "markdown",
   "id": "209bbb02-28aa-4a48-9685-acd202d9cb4b",
   "metadata": {},
   "source": [
    "## 4. For each (primary) breed, determine the earliest and the latest `posted` timestamp."
   ]
  },
  {
   "cell_type": "code",
   "execution_count": 27,
   "id": "d9c18534-9151-4288-b45f-a1d6cb9aee8e",
   "metadata": {},
   "outputs": [
    {
     "data": {
      "text/html": [
       "<div>\n",
       "<style scoped>\n",
       "    .dataframe tbody tr th:only-of-type {\n",
       "        vertical-align: middle;\n",
       "    }\n",
       "\n",
       "    .dataframe tbody tr th {\n",
       "        vertical-align: top;\n",
       "    }\n",
       "\n",
       "    .dataframe thead th {\n",
       "        text-align: right;\n",
       "    }\n",
       "</style>\n",
       "<table border=\"1\" class=\"dataframe\">\n",
       "  <thead>\n",
       "    <tr style=\"text-align: right;\">\n",
       "      <th></th>\n",
       "      <th>Earliest</th>\n",
       "      <th>Latest</th>\n",
       "    </tr>\n",
       "    <tr>\n",
       "      <th>breed_primary</th>\n",
       "      <th></th>\n",
       "      <th></th>\n",
       "    </tr>\n",
       "  </thead>\n",
       "  <tbody>\n",
       "    <tr>\n",
       "      <th>Affenpinscher</th>\n",
       "      <td>2012-03-08 10:27:33+00:00</td>\n",
       "      <td>2019-09-14 10:10:51+00:00</td>\n",
       "    </tr>\n",
       "    <tr>\n",
       "      <th>Afghan Hound</th>\n",
       "      <td>2017-06-29 23:28:51+00:00</td>\n",
       "      <td>2019-07-27 00:38:48+00:00</td>\n",
       "    </tr>\n",
       "    <tr>\n",
       "      <th>Airedale Terrier</th>\n",
       "      <td>2014-06-13 12:59:36+00:00</td>\n",
       "      <td>2019-09-19 18:40:39+00:00</td>\n",
       "    </tr>\n",
       "    <tr>\n",
       "      <th>Akbash</th>\n",
       "      <td>2019-07-21 00:35:59+00:00</td>\n",
       "      <td>2019-08-23 17:11:04+00:00</td>\n",
       "    </tr>\n",
       "    <tr>\n",
       "      <th>Akita</th>\n",
       "      <td>2012-03-03 09:31:08+00:00</td>\n",
       "      <td>2019-09-20 15:19:57+00:00</td>\n",
       "    </tr>\n",
       "  </tbody>\n",
       "</table>\n",
       "</div>"
      ],
      "text/plain": [
       "                                  Earliest                    Latest\n",
       "breed_primary                                                       \n",
       "Affenpinscher    2012-03-08 10:27:33+00:00 2019-09-14 10:10:51+00:00\n",
       "Afghan Hound     2017-06-29 23:28:51+00:00 2019-07-27 00:38:48+00:00\n",
       "Airedale Terrier 2014-06-13 12:59:36+00:00 2019-09-19 18:40:39+00:00\n",
       "Akbash           2019-07-21 00:35:59+00:00 2019-08-23 17:11:04+00:00\n",
       "Akita            2012-03-03 09:31:08+00:00 2019-09-20 15:19:57+00:00"
      ]
     },
     "execution_count": 27,
     "metadata": {},
     "output_type": "execute_result"
    }
   ],
   "source": [
    "#converto le date in formato datetime64\n",
    "df.dtypes\n",
    "df['posted'] = pd.to_datetime(df['posted'])\n",
    "df.dtypes\n",
    "#uso groupby\n",
    "breed_posted_range = df.groupby('breed_primary')['posted'].agg(['min', 'max'])\n",
    "result = breed_posted_range.rename(columns={'min': 'Earliest','max':'Latest'})\n",
    "\n",
    "result.head()"
   ]
  },
  {
   "cell_type": "markdown",
   "id": "e87ff1ff-07ef-45a4-b2ec-c360dceaf616",
   "metadata": {},
   "source": [
    "## 5. For each state, compute the sex imbalance, that is the difference between male and female dogs. In which state this imbalance is largest?"
   ]
  },
  {
   "cell_type": "code",
   "execution_count": 28,
   "id": "7b56b6c0-21a7-41b4-8f59-bcc08d6ce4fb",
   "metadata": {},
   "outputs": [],
   "source": [
    "### HO USATO LA TECNICA DELLO SMOOTHING "
   ]
  },
  {
   "cell_type": "code",
   "execution_count": 29,
   "id": "b9bd44b8-3d85-4884-9f83-c21113063e53",
   "metadata": {},
   "outputs": [
    {
     "data": {
      "text/html": [
       "<div>\n",
       "<style scoped>\n",
       "    .dataframe tbody tr th:only-of-type {\n",
       "        vertical-align: middle;\n",
       "    }\n",
       "\n",
       "    .dataframe tbody tr th {\n",
       "        vertical-align: top;\n",
       "    }\n",
       "\n",
       "    .dataframe thead th {\n",
       "        text-align: right;\n",
       "    }\n",
       "</style>\n",
       "<table border=\"1\" class=\"dataframe\">\n",
       "  <thead>\n",
       "    <tr style=\"text-align: right;\">\n",
       "      <th>sex</th>\n",
       "      <th>Male</th>\n",
       "      <th>Female</th>\n",
       "      <th>diff</th>\n",
       "    </tr>\n",
       "    <tr>\n",
       "      <th>stateQ</th>\n",
       "      <th></th>\n",
       "      <th></th>\n",
       "      <th></th>\n",
       "    </tr>\n",
       "  </thead>\n",
       "  <tbody>\n",
       "    <tr>\n",
       "      <th>AK</th>\n",
       "      <td>9.0</td>\n",
       "      <td>8.0</td>\n",
       "      <td>1.125000</td>\n",
       "    </tr>\n",
       "    <tr>\n",
       "      <th>AL</th>\n",
       "      <td>510.0</td>\n",
       "      <td>535.0</td>\n",
       "      <td>0.953271</td>\n",
       "    </tr>\n",
       "    <tr>\n",
       "      <th>AR</th>\n",
       "      <td>345.0</td>\n",
       "      <td>352.0</td>\n",
       "      <td>0.980114</td>\n",
       "    </tr>\n",
       "    <tr>\n",
       "      <th>AZ</th>\n",
       "      <td>1143.0</td>\n",
       "      <td>1028.0</td>\n",
       "      <td>1.111868</td>\n",
       "    </tr>\n",
       "    <tr>\n",
       "      <th>CA</th>\n",
       "      <td>533.0</td>\n",
       "      <td>497.0</td>\n",
       "      <td>1.072435</td>\n",
       "    </tr>\n",
       "    <tr>\n",
       "      <th>CO</th>\n",
       "      <td>862.0</td>\n",
       "      <td>913.0</td>\n",
       "      <td>0.944140</td>\n",
       "    </tr>\n",
       "    <tr>\n",
       "      <th>CT</th>\n",
       "      <td>3443.0</td>\n",
       "      <td>3289.0</td>\n",
       "      <td>1.046823</td>\n",
       "    </tr>\n",
       "    <tr>\n",
       "      <th>DC</th>\n",
       "      <td>2451.0</td>\n",
       "      <td>2220.0</td>\n",
       "      <td>1.104054</td>\n",
       "    </tr>\n",
       "    <tr>\n",
       "      <th>DE</th>\n",
       "      <td>1124.0</td>\n",
       "      <td>1245.0</td>\n",
       "      <td>0.902811</td>\n",
       "    </tr>\n",
       "    <tr>\n",
       "      <th>FL</th>\n",
       "      <td>1381.0</td>\n",
       "      <td>1280.0</td>\n",
       "      <td>1.078906</td>\n",
       "    </tr>\n",
       "  </tbody>\n",
       "</table>\n",
       "</div>"
      ],
      "text/plain": [
       "sex       Male  Female      diff\n",
       "stateQ                          \n",
       "AK         9.0     8.0  1.125000\n",
       "AL       510.0   535.0  0.953271\n",
       "AR       345.0   352.0  0.980114\n",
       "AZ      1143.0  1028.0  1.111868\n",
       "CA       533.0   497.0  1.072435\n",
       "CO       862.0   913.0  0.944140\n",
       "CT      3443.0  3289.0  1.046823\n",
       "DC      2451.0  2220.0  1.104054\n",
       "DE      1124.0  1245.0  0.902811\n",
       "FL      1381.0  1280.0  1.078906"
      ]
     },
     "execution_count": 29,
     "metadata": {},
     "output_type": "execute_result"
    }
   ],
   "source": [
    "# raggruppo per stato e per sesso ed estraggo i valori di sesso con .unstack\n",
    "gender_diff = df.groupby('stateQ')['sex'].value_counts().unstack().fillna(0)\n",
    "# applico la tecnica di smoothing aggiungendo 1 a entrambi i numeratori e i denominatori\n",
    "gender_diff['Female'] = gender_diff['Female'] + 1\n",
    "gender_diff['Male'] = gender_diff['Male'] + 1\n",
    "# calcolo la differenza\n",
    "gender_diff['diff'] = gender_diff['Male'] / gender_diff['Female']\n",
    "# elimino la tabella Unknown (contiene solo 3 valori)\n",
    "gender_diff = gender_diff.drop('Unknown', axis=1)\n",
    "#inverto le colonne male e female\n",
    "gender_diff = gender_diff.reindex(columns=['Male', 'Female', 'diff'])\n",
    "\n",
    "gender_diff.head(10)\n"
   ]
  },
  {
   "cell_type": "code",
   "execution_count": 30,
   "id": "a6ebc0da-36ab-4721-93b9-cb279316dcda",
   "metadata": {},
   "outputs": [
    {
     "data": {
      "text/html": [
       "<div>\n",
       "<style scoped>\n",
       "    .dataframe tbody tr th:only-of-type {\n",
       "        vertical-align: middle;\n",
       "    }\n",
       "\n",
       "    .dataframe tbody tr th {\n",
       "        vertical-align: top;\n",
       "    }\n",
       "\n",
       "    .dataframe thead th {\n",
       "        text-align: right;\n",
       "    }\n",
       "</style>\n",
       "<table border=\"1\" class=\"dataframe\">\n",
       "  <thead>\n",
       "    <tr style=\"text-align: right;\">\n",
       "      <th>sex</th>\n",
       "      <th>Male</th>\n",
       "      <th>Female</th>\n",
       "      <th>diff</th>\n",
       "    </tr>\n",
       "    <tr>\n",
       "      <th>stateQ</th>\n",
       "      <th></th>\n",
       "      <th></th>\n",
       "      <th></th>\n",
       "    </tr>\n",
       "  </thead>\n",
       "  <tbody>\n",
       "    <tr>\n",
       "      <th>MD</th>\n",
       "      <td>27.0</td>\n",
       "      <td>11.0</td>\n",
       "      <td>2.454545</td>\n",
       "    </tr>\n",
       "  </tbody>\n",
       "</table>\n",
       "</div>"
      ],
      "text/plain": [
       "sex     Male  Female      diff\n",
       "stateQ                        \n",
       "MD      27.0    11.0  2.454545"
      ]
     },
     "execution_count": 30,
     "metadata": {},
     "output_type": "execute_result"
    }
   ],
   "source": [
    "#trovo la massima differenza\n",
    "max_diff = gender_diff['diff'].max()\n",
    "#creo una maschere boleana\n",
    "mask = gender_diff['diff'] == max_diff\n",
    "#assegno il risultato al dataframe state_eith_max_diff\n",
    "state_with_max_diff = gender_diff[mask]\n",
    "state_with_max_diff"
   ]
  },
  {
   "cell_type": "markdown",
   "id": "e5b2948a-76ec-4210-bf2c-953ff1d8d632",
   "metadata": {},
   "source": [
    "#### il Maryland è lo stato col sex imbalance piu alto"
   ]
  },
  {
   "cell_type": "markdown",
   "id": "10897941-4786-4a2d-91f6-2d2af37a607c",
   "metadata": {},
   "source": [
    "## 6. For each pair (age, size), determine the average duration of the stay and the average cost of stay.\n"
   ]
  },
  {
   "cell_type": "code",
   "execution_count": 31,
   "id": "062e3c0a-741e-485b-8fb5-817f9de13fde",
   "metadata": {},
   "outputs": [],
   "source": [
    "#converto stay duration a numerico\n",
    "df['stay_duration'] = pd.to_numeric(df['stay_duration'], errors='coerce')\n",
    "df['stay_cost'] = pd.to_numeric(df['stay_cost'], errors='coerce')"
   ]
  },
  {
   "cell_type": "code",
   "execution_count": 32,
   "id": "8fc86d43-2c32-461d-9f88-4800f54b9a6d",
   "metadata": {},
   "outputs": [
    {
     "data": {
      "text/html": [
       "<div>\n",
       "<style scoped>\n",
       "    .dataframe tbody tr th:only-of-type {\n",
       "        vertical-align: middle;\n",
       "    }\n",
       "\n",
       "    .dataframe tbody tr th {\n",
       "        vertical-align: top;\n",
       "    }\n",
       "\n",
       "    .dataframe thead th {\n",
       "        text-align: right;\n",
       "    }\n",
       "</style>\n",
       "<table border=\"1\" class=\"dataframe\">\n",
       "  <thead>\n",
       "    <tr style=\"text-align: right;\">\n",
       "      <th></th>\n",
       "      <th>id</th>\n",
       "      <th>org_id</th>\n",
       "      <th>url</th>\n",
       "      <th>type.x</th>\n",
       "      <th>species</th>\n",
       "      <th>breed_primary</th>\n",
       "      <th>breed_secondary</th>\n",
       "      <th>breed_mixed</th>\n",
       "      <th>breed_unknown</th>\n",
       "      <th>color_primary</th>\n",
       "      <th>color_secondary</th>\n",
       "      <th>color_tertiary</th>\n",
       "      <th>age</th>\n",
       "      <th>sex</th>\n",
       "      <th>size</th>\n",
       "      <th>coat</th>\n",
       "      <th>fixed</th>\n",
       "      <th>house_trained</th>\n",
       "      <th>declawed</th>\n",
       "      <th>special_needs</th>\n",
       "      <th>shots_current</th>\n",
       "      <th>env_children</th>\n",
       "      <th>env_dogs</th>\n",
       "      <th>env_cats</th>\n",
       "      <th>name</th>\n",
       "      <th>status</th>\n",
       "      <th>posted</th>\n",
       "      <th>contact_city</th>\n",
       "      <th>contact_state</th>\n",
       "      <th>contact_zip</th>\n",
       "      <th>contact_country</th>\n",
       "      <th>stateQ</th>\n",
       "      <th>accessed</th>\n",
       "      <th>type.y</th>\n",
       "      <th>description</th>\n",
       "      <th>stay_duration</th>\n",
       "      <th>stay_cost</th>\n",
       "    </tr>\n",
       "  </thead>\n",
       "  <tbody>\n",
       "  </tbody>\n",
       "</table>\n",
       "</div>"
      ],
      "text/plain": [
       "Empty DataFrame\n",
       "Columns: [id, org_id, url, type.x, species, breed_primary, breed_secondary, breed_mixed, breed_unknown, color_primary, color_secondary, color_tertiary, age, sex, size, coat, fixed, house_trained, declawed, special_needs, shots_current, env_children, env_dogs, env_cats, name, status, posted, contact_city, contact_state, contact_zip, contact_country, stateQ, accessed, type.y, description, stay_duration, stay_cost]\n",
       "Index: []"
      ]
     },
     "execution_count": 32,
     "metadata": {},
     "output_type": "execute_result"
    }
   ],
   "source": [
    "#non ci sono valori=0\n",
    "is_null_value=df[\"stay_cost\"].isnull()\n",
    "null=df[is_null_value]\n",
    "null.head()"
   ]
  },
  {
   "cell_type": "code",
   "execution_count": 33,
   "id": "17ce23c2-3a0f-40db-b121-bf7366b28a4d",
   "metadata": {},
   "outputs": [
    {
     "data": {
      "text/plain": [
       "(198, 37)"
      ]
     },
     "execution_count": 33,
     "metadata": {},
     "output_type": "execute_result"
    }
   ],
   "source": [
    "#CI SONO 198 VALORI DI STAY COST MINORI DI ZERO\n",
    "is_minore_di_zero=df[\"stay_cost\"]<0\n",
    "minori=df[is_minore_di_zero]\n",
    "minori.shape\n"
   ]
  },
  {
   "cell_type": "code",
   "execution_count": 34,
   "id": "9e69ee04-d3f8-4ef3-bc0a-7248e307c1e0",
   "metadata": {},
   "outputs": [
    {
     "data": {
      "text/plain": [
       "(57982, 37)"
      ]
     },
     "execution_count": 34,
     "metadata": {},
     "output_type": "execute_result"
    }
   ],
   "source": [
    "#elimino le righe con valori minori di zero\n",
    "df.drop(minori.index, inplace=True)\n",
    "df.shape"
   ]
  },
  {
   "cell_type": "code",
   "execution_count": 35,
   "id": "79ecd09e-5266-4b52-bbea-a468e55b4452",
   "metadata": {},
   "outputs": [
    {
     "name": "stdout",
     "output_type": "stream",
     "text": [
      "                    stay_duration  stay_cost\n",
      "age    size                                 \n",
      "Adult  Extra Large           88.0    224.120\n",
      "       Large                 90.0    229.230\n",
      "       Medium                89.0    229.160\n",
      "       Small                 89.0    230.670\n",
      "Baby   Extra Large           87.0    236.050\n",
      "       Large                 90.0    230.275\n",
      "       Medium                90.0    230.390\n",
      "       Small                 90.0    231.435\n",
      "Senior Extra Large           90.0    229.650\n",
      "       Large                 89.0    230.060\n",
      "       Medium                89.0    232.145\n",
      "       Small                 89.0    232.195\n",
      "Young  Extra Large           90.0    246.570\n",
      "       Large                 90.0    230.660\n",
      "       Medium                89.0    231.280\n",
      "       Small                 90.0    230.825\n"
     ]
    }
   ],
   "source": [
    "# Calcolo per ogni coppia (age, size) la mediana di stay_duration e stay_cost \n",
    "result = df.groupby(['age', 'size'])[['stay_duration', 'stay_cost']].agg('median')\n",
    "\n",
    "print(result)"
   ]
  },
  {
   "cell_type": "markdown",
   "id": "89d0e187-0fff-4b6c-b8f1-dafe9787a34a",
   "metadata": {},
   "source": [
    "## 7. Find the dogs involved in at least 3 travels. Also list the breed of those dogs."
   ]
  },
  {
   "cell_type": "code",
   "execution_count": 36,
   "id": "6ebe23e9-31f8-4366-b224-8738e7d0e893",
   "metadata": {},
   "outputs": [],
   "source": [
    "# CONSIDERO IL NUM DI VALORI DIVERSI PER PAESE (COLONNA FOUND DI DOGTRAVEL)"
   ]
  },
  {
   "cell_type": "code",
   "execution_count": 37,
   "id": "f8469764",
   "metadata": {},
   "outputs": [
    {
     "data": {
      "text/html": [
       "<div>\n",
       "<style scoped>\n",
       "    .dataframe tbody tr th:only-of-type {\n",
       "        vertical-align: middle;\n",
       "    }\n",
       "\n",
       "    .dataframe tbody tr th {\n",
       "        vertical-align: top;\n",
       "    }\n",
       "\n",
       "    .dataframe thead th {\n",
       "        text-align: right;\n",
       "    }\n",
       "</style>\n",
       "<table border=\"1\" class=\"dataframe\">\n",
       "  <thead>\n",
       "    <tr style=\"text-align: right;\">\n",
       "      <th></th>\n",
       "      <th>index</th>\n",
       "      <th>id</th>\n",
       "      <th>contact_city</th>\n",
       "      <th>contact_state</th>\n",
       "      <th>description</th>\n",
       "      <th>found</th>\n",
       "      <th>manual</th>\n",
       "      <th>remove</th>\n",
       "      <th>still_there</th>\n",
       "    </tr>\n",
       "  </thead>\n",
       "  <tbody>\n",
       "    <tr>\n",
       "      <th>0</th>\n",
       "      <td>0</td>\n",
       "      <td>44520267</td>\n",
       "      <td>Anoka</td>\n",
       "      <td>MN</td>\n",
       "      <td>Boris is a handsome mini schnauzer who made hi...</td>\n",
       "      <td>Arkansas</td>\n",
       "      <td>NaN</td>\n",
       "      <td>NaN</td>\n",
       "      <td>NaN</td>\n",
       "    </tr>\n",
       "    <tr>\n",
       "      <th>1</th>\n",
       "      <td>1</td>\n",
       "      <td>44698509</td>\n",
       "      <td>Groveland</td>\n",
       "      <td>FL</td>\n",
       "      <td>Duke is an almost 2 year old Potcake from Abac...</td>\n",
       "      <td>Abacos</td>\n",
       "      <td>Bahamas</td>\n",
       "      <td>NaN</td>\n",
       "      <td>NaN</td>\n",
       "    </tr>\n",
       "    <tr>\n",
       "      <th>2</th>\n",
       "      <td>2</td>\n",
       "      <td>45983838</td>\n",
       "      <td>Adamstown</td>\n",
       "      <td>MD</td>\n",
       "      <td>Zac Woof-ron is a heartthrob movie star lookin...</td>\n",
       "      <td>Adam</td>\n",
       "      <td>Maryland</td>\n",
       "      <td>NaN</td>\n",
       "      <td>NaN</td>\n",
       "    </tr>\n",
       "    <tr>\n",
       "      <th>3</th>\n",
       "      <td>3</td>\n",
       "      <td>44475904</td>\n",
       "      <td>Saint Cloud</td>\n",
       "      <td>MN</td>\n",
       "      <td>~~Came in to the shelter as a transfer from an...</td>\n",
       "      <td>Adaptil</td>\n",
       "      <td>NaN</td>\n",
       "      <td>True</td>\n",
       "      <td>NaN</td>\n",
       "    </tr>\n",
       "    <tr>\n",
       "      <th>4</th>\n",
       "      <td>4</td>\n",
       "      <td>43877389</td>\n",
       "      <td>Pueblo</td>\n",
       "      <td>CO</td>\n",
       "      <td>Palang is such a sweetheart. She loves her peo...</td>\n",
       "      <td>Afghanistan</td>\n",
       "      <td>NaN</td>\n",
       "      <td>NaN</td>\n",
       "      <td>NaN</td>\n",
       "    </tr>\n",
       "  </tbody>\n",
       "</table>\n",
       "</div>"
      ],
      "text/plain": [
       "   index        id contact_city contact_state  \\\n",
       "0      0  44520267        Anoka            MN   \n",
       "1      1  44698509    Groveland            FL   \n",
       "2      2  45983838    Adamstown            MD   \n",
       "3      3  44475904  Saint Cloud            MN   \n",
       "4      4  43877389       Pueblo            CO   \n",
       "\n",
       "                                         description        found    manual  \\\n",
       "0  Boris is a handsome mini schnauzer who made hi...     Arkansas       NaN   \n",
       "1  Duke is an almost 2 year old Potcake from Abac...       Abacos   Bahamas   \n",
       "2  Zac Woof-ron is a heartthrob movie star lookin...         Adam  Maryland   \n",
       "3  ~~Came in to the shelter as a transfer from an...      Adaptil       NaN   \n",
       "4  Palang is such a sweetheart. She loves her peo...  Afghanistan       NaN   \n",
       "\n",
       "  remove still_there  \n",
       "0    NaN         NaN  \n",
       "1    NaN         NaN  \n",
       "2    NaN         NaN  \n",
       "3   True         NaN  \n",
       "4    NaN         NaN  "
      ]
     },
     "execution_count": 37,
     "metadata": {},
     "output_type": "execute_result"
    }
   ],
   "source": [
    "df2.head()"
   ]
  },
  {
   "cell_type": "code",
   "execution_count": 38,
   "id": "cbaca610-0eb1-45d9-ba05-11c121bbe508",
   "metadata": {},
   "outputs": [
    {
     "data": {
      "text/plain": [
       "False"
      ]
     },
     "execution_count": 38,
     "metadata": {},
     "output_type": "execute_result"
    }
   ],
   "source": [
    "#df2=pd.read_csv('adoptions/dogTravel.csv')\n",
    "# conto il numero di valori unici di found e raggruppo per id\n",
    "# in questo modo escludo i valori duplicati, per ogni id ho un unico found\n",
    "grouped = df2.groupby('id')['found'].nunique()\n",
    "# seleziono solo gli id dove found è >= a 3\n",
    "filtered = grouped[grouped >= 3]\n",
    "#rinomino le colonne \n",
    "result = filtered.reset_index().rename(columns={'found': 'viaggi'})[['id', 'viaggi']]\n",
    "#faccio il Merge con df\n",
    "df3 = pd.merge(df, result, how='inner')\n",
    "#mostro 3 colonne : id , razza e numero di viaggi\n",
    "viaggi=df3[[\"id\", \"name\",\"breed_primary\",\"viaggi\"]]\n",
    "#infine controllo che id non abbia duplicati\n",
    "viaggi[\"id\"].duplicated().any()"
   ]
  },
  {
   "cell_type": "code",
   "execution_count": 39,
   "id": "5c44111e-a3e1-4c59-a0f9-79aac27d8ce4",
   "metadata": {},
   "outputs": [
    {
     "data": {
      "text/plain": [
       "(447, 4)"
      ]
     },
     "execution_count": 39,
     "metadata": {},
     "output_type": "execute_result"
    }
   ],
   "source": [
    "viaggi.shape"
   ]
  },
  {
   "cell_type": "code",
   "execution_count": 40,
   "id": "35219be6-d81f-433e-bfbe-0de133ea01ac",
   "metadata": {},
   "outputs": [
    {
     "data": {
      "text/html": [
       "<div>\n",
       "<style scoped>\n",
       "    .dataframe tbody tr th:only-of-type {\n",
       "        vertical-align: middle;\n",
       "    }\n",
       "\n",
       "    .dataframe tbody tr th {\n",
       "        vertical-align: top;\n",
       "    }\n",
       "\n",
       "    .dataframe thead th {\n",
       "        text-align: right;\n",
       "    }\n",
       "</style>\n",
       "<table border=\"1\" class=\"dataframe\">\n",
       "  <thead>\n",
       "    <tr style=\"text-align: right;\">\n",
       "      <th></th>\n",
       "      <th>id</th>\n",
       "      <th>name</th>\n",
       "      <th>breed_primary</th>\n",
       "      <th>viaggi</th>\n",
       "    </tr>\n",
       "  </thead>\n",
       "  <tbody>\n",
       "    <tr>\n",
       "      <th>220</th>\n",
       "      <td>45537987</td>\n",
       "      <td>Lakota Mato (Bear)</td>\n",
       "      <td>Alaskan Malamute</td>\n",
       "      <td>7</td>\n",
       "    </tr>\n",
       "    <tr>\n",
       "      <th>264</th>\n",
       "      <td>44070616</td>\n",
       "      <td>Finn MacCool</td>\n",
       "      <td>Alaskan Malamute</td>\n",
       "      <td>7</td>\n",
       "    </tr>\n",
       "    <tr>\n",
       "      <th>208</th>\n",
       "      <td>45728583</td>\n",
       "      <td>Murry Murdoch da Tank!</td>\n",
       "      <td>Alaskan Malamute</td>\n",
       "      <td>7</td>\n",
       "    </tr>\n",
       "    <tr>\n",
       "      <th>251</th>\n",
       "      <td>44572953</td>\n",
       "      <td>Apollo the White Knight</td>\n",
       "      <td>Alaskan Malamute</td>\n",
       "      <td>7</td>\n",
       "    </tr>\n",
       "    <tr>\n",
       "      <th>44</th>\n",
       "      <td>45988387</td>\n",
       "      <td>Winter Vale</td>\n",
       "      <td>Alaskan Malamute</td>\n",
       "      <td>7</td>\n",
       "    </tr>\n",
       "    <tr>\n",
       "      <th>271</th>\n",
       "      <td>36978896</td>\n",
       "      <td>Maddie \\Cutie Patootie!\\\",\"Maddie is our littl...</td>\n",
       "      <td>Alaskan Malamute</td>\n",
       "      <td>7</td>\n",
       "    </tr>\n",
       "    <tr>\n",
       "      <th>272</th>\n",
       "      <td>33218331</td>\n",
       "      <td>Bucky \\Are u my hooman?\\\",\"Born in August 2014...</td>\n",
       "      <td>Alaskan Malamute</td>\n",
       "      <td>7</td>\n",
       "    </tr>\n",
       "    <tr>\n",
       "      <th>401</th>\n",
       "      <td>45670129</td>\n",
       "      <td>TJ</td>\n",
       "      <td>Papillon</td>\n",
       "      <td>5</td>\n",
       "    </tr>\n",
       "    <tr>\n",
       "      <th>391</th>\n",
       "      <td>45860138</td>\n",
       "      <td>Ladybird</td>\n",
       "      <td>Redbone Coonhound</td>\n",
       "      <td>5</td>\n",
       "    </tr>\n",
       "    <tr>\n",
       "      <th>371</th>\n",
       "      <td>45991032</td>\n",
       "      <td>Pinto</td>\n",
       "      <td>Labrador Retriever</td>\n",
       "      <td>5</td>\n",
       "    </tr>\n",
       "  </tbody>\n",
       "</table>\n",
       "</div>"
      ],
      "text/plain": [
       "           id                                               name  \\\n",
       "220  45537987                                 Lakota Mato (Bear)   \n",
       "264  44070616                                       Finn MacCool   \n",
       "208  45728583                             Murry Murdoch da Tank!   \n",
       "251  44572953                            Apollo the White Knight   \n",
       "44   45988387                                        Winter Vale   \n",
       "271  36978896  Maddie \\Cutie Patootie!\\\",\"Maddie is our littl...   \n",
       "272  33218331  Bucky \\Are u my hooman?\\\",\"Born in August 2014...   \n",
       "401  45670129                                                 TJ   \n",
       "391  45860138                                           Ladybird   \n",
       "371  45991032                                              Pinto   \n",
       "\n",
       "          breed_primary  viaggi  \n",
       "220    Alaskan Malamute       7  \n",
       "264    Alaskan Malamute       7  \n",
       "208    Alaskan Malamute       7  \n",
       "251    Alaskan Malamute       7  \n",
       "44     Alaskan Malamute       7  \n",
       "271    Alaskan Malamute       7  \n",
       "272    Alaskan Malamute       7  \n",
       "401            Papillon       5  \n",
       "391   Redbone Coonhound       5  \n",
       "371  Labrador Retriever       5  "
      ]
     },
     "execution_count": 40,
     "metadata": {},
     "output_type": "execute_result"
    }
   ],
   "source": [
    "#mostro il risultato in ordine decrescente di viaggi\n",
    "viaggi.sort_values('viaggi',ascending=False).head(10)"
   ]
  },
  {
   "cell_type": "markdown",
   "id": "0a760eb8-481a-4377-aea5-9691a53aab01",
   "metadata": {
    "tags": []
   },
   "source": [
    "## 8. Fix the travels table so that the correct state is computed from the manual and the found fields. If manual is not missing, then it overrides what is stored in found."
   ]
  },
  {
   "cell_type": "code",
   "execution_count": 41,
   "id": "686a9b78-bb98-4cd9-9786-70f5b0357c52",
   "metadata": {},
   "outputs": [
    {
     "data": {
      "text/html": [
       "<div>\n",
       "<style scoped>\n",
       "    .dataframe tbody tr th:only-of-type {\n",
       "        vertical-align: middle;\n",
       "    }\n",
       "\n",
       "    .dataframe tbody tr th {\n",
       "        vertical-align: top;\n",
       "    }\n",
       "\n",
       "    .dataframe thead th {\n",
       "        text-align: right;\n",
       "    }\n",
       "</style>\n",
       "<table border=\"1\" class=\"dataframe\">\n",
       "  <thead>\n",
       "    <tr style=\"text-align: right;\">\n",
       "      <th></th>\n",
       "      <th>index</th>\n",
       "      <th>id</th>\n",
       "      <th>contact_city</th>\n",
       "      <th>contact_state</th>\n",
       "      <th>description</th>\n",
       "      <th>found</th>\n",
       "      <th>manual</th>\n",
       "      <th>remove</th>\n",
       "      <th>still_there</th>\n",
       "    </tr>\n",
       "  </thead>\n",
       "  <tbody>\n",
       "    <tr>\n",
       "      <th>0</th>\n",
       "      <td>0</td>\n",
       "      <td>44520267</td>\n",
       "      <td>Anoka</td>\n",
       "      <td>MN</td>\n",
       "      <td>Boris is a handsome mini schnauzer who made hi...</td>\n",
       "      <td>Arkansas</td>\n",
       "      <td>NaN</td>\n",
       "      <td>NaN</td>\n",
       "      <td>NaN</td>\n",
       "    </tr>\n",
       "    <tr>\n",
       "      <th>1</th>\n",
       "      <td>1</td>\n",
       "      <td>44698509</td>\n",
       "      <td>Groveland</td>\n",
       "      <td>FL</td>\n",
       "      <td>Duke is an almost 2 year old Potcake from Abac...</td>\n",
       "      <td>Abacos</td>\n",
       "      <td>Bahamas</td>\n",
       "      <td>NaN</td>\n",
       "      <td>NaN</td>\n",
       "    </tr>\n",
       "    <tr>\n",
       "      <th>2</th>\n",
       "      <td>2</td>\n",
       "      <td>45983838</td>\n",
       "      <td>Adamstown</td>\n",
       "      <td>MD</td>\n",
       "      <td>Zac Woof-ron is a heartthrob movie star lookin...</td>\n",
       "      <td>Adam</td>\n",
       "      <td>Maryland</td>\n",
       "      <td>NaN</td>\n",
       "      <td>NaN</td>\n",
       "    </tr>\n",
       "    <tr>\n",
       "      <th>3</th>\n",
       "      <td>3</td>\n",
       "      <td>44475904</td>\n",
       "      <td>Saint Cloud</td>\n",
       "      <td>MN</td>\n",
       "      <td>~~Came in to the shelter as a transfer from an...</td>\n",
       "      <td>Adaptil</td>\n",
       "      <td>NaN</td>\n",
       "      <td>True</td>\n",
       "      <td>NaN</td>\n",
       "    </tr>\n",
       "    <tr>\n",
       "      <th>4</th>\n",
       "      <td>4</td>\n",
       "      <td>43877389</td>\n",
       "      <td>Pueblo</td>\n",
       "      <td>CO</td>\n",
       "      <td>Palang is such a sweetheart. She loves her peo...</td>\n",
       "      <td>Afghanistan</td>\n",
       "      <td>NaN</td>\n",
       "      <td>NaN</td>\n",
       "      <td>NaN</td>\n",
       "    </tr>\n",
       "  </tbody>\n",
       "</table>\n",
       "</div>"
      ],
      "text/plain": [
       "   index        id contact_city contact_state  \\\n",
       "0      0  44520267        Anoka            MN   \n",
       "1      1  44698509    Groveland            FL   \n",
       "2      2  45983838    Adamstown            MD   \n",
       "3      3  44475904  Saint Cloud            MN   \n",
       "4      4  43877389       Pueblo            CO   \n",
       "\n",
       "                                         description        found    manual  \\\n",
       "0  Boris is a handsome mini schnauzer who made hi...     Arkansas       NaN   \n",
       "1  Duke is an almost 2 year old Potcake from Abac...       Abacos   Bahamas   \n",
       "2  Zac Woof-ron is a heartthrob movie star lookin...         Adam  Maryland   \n",
       "3  ~~Came in to the shelter as a transfer from an...      Adaptil       NaN   \n",
       "4  Palang is such a sweetheart. She loves her peo...  Afghanistan       NaN   \n",
       "\n",
       "  remove still_there  \n",
       "0    NaN         NaN  \n",
       "1    NaN         NaN  \n",
       "2    NaN         NaN  \n",
       "3   True         NaN  \n",
       "4    NaN         NaN  "
      ]
     },
     "execution_count": 41,
     "metadata": {},
     "output_type": "execute_result"
    }
   ],
   "source": [
    "df2.head()"
   ]
  },
  {
   "cell_type": "code",
   "execution_count": 42,
   "id": "350d0fc9-e121-4237-ab4b-cfa9a8c5615d",
   "metadata": {},
   "outputs": [
    {
     "data": {
      "text/html": [
       "<div>\n",
       "<style scoped>\n",
       "    .dataframe tbody tr th:only-of-type {\n",
       "        vertical-align: middle;\n",
       "    }\n",
       "\n",
       "    .dataframe tbody tr th {\n",
       "        vertical-align: top;\n",
       "    }\n",
       "\n",
       "    .dataframe thead th {\n",
       "        text-align: right;\n",
       "    }\n",
       "</style>\n",
       "<table border=\"1\" class=\"dataframe\">\n",
       "  <thead>\n",
       "    <tr style=\"text-align: right;\">\n",
       "      <th></th>\n",
       "      <th>index</th>\n",
       "      <th>id</th>\n",
       "      <th>contact_city</th>\n",
       "      <th>contact_state</th>\n",
       "      <th>description</th>\n",
       "      <th>found</th>\n",
       "      <th>manual</th>\n",
       "      <th>remove</th>\n",
       "      <th>still_there</th>\n",
       "    </tr>\n",
       "  </thead>\n",
       "  <tbody>\n",
       "    <tr>\n",
       "      <th>0</th>\n",
       "      <td>0</td>\n",
       "      <td>44520267</td>\n",
       "      <td>Anoka</td>\n",
       "      <td>MN</td>\n",
       "      <td>Boris is a handsome mini schnauzer who made hi...</td>\n",
       "      <td>Arkansas</td>\n",
       "      <td>NaN</td>\n",
       "      <td>NaN</td>\n",
       "      <td>NaN</td>\n",
       "    </tr>\n",
       "    <tr>\n",
       "      <th>1</th>\n",
       "      <td>1</td>\n",
       "      <td>44698509</td>\n",
       "      <td>Groveland</td>\n",
       "      <td>FL</td>\n",
       "      <td>Duke is an almost 2 year old Potcake from Abac...</td>\n",
       "      <td>Bahamas</td>\n",
       "      <td>Bahamas</td>\n",
       "      <td>NaN</td>\n",
       "      <td>NaN</td>\n",
       "    </tr>\n",
       "    <tr>\n",
       "      <th>2</th>\n",
       "      <td>2</td>\n",
       "      <td>45983838</td>\n",
       "      <td>Adamstown</td>\n",
       "      <td>MD</td>\n",
       "      <td>Zac Woof-ron is a heartthrob movie star lookin...</td>\n",
       "      <td>Maryland</td>\n",
       "      <td>Maryland</td>\n",
       "      <td>NaN</td>\n",
       "      <td>NaN</td>\n",
       "    </tr>\n",
       "    <tr>\n",
       "      <th>3</th>\n",
       "      <td>3</td>\n",
       "      <td>44475904</td>\n",
       "      <td>Saint Cloud</td>\n",
       "      <td>MN</td>\n",
       "      <td>~~Came in to the shelter as a transfer from an...</td>\n",
       "      <td>Adaptil</td>\n",
       "      <td>NaN</td>\n",
       "      <td>True</td>\n",
       "      <td>NaN</td>\n",
       "    </tr>\n",
       "    <tr>\n",
       "      <th>4</th>\n",
       "      <td>4</td>\n",
       "      <td>43877389</td>\n",
       "      <td>Pueblo</td>\n",
       "      <td>CO</td>\n",
       "      <td>Palang is such a sweetheart. She loves her peo...</td>\n",
       "      <td>Afghanistan</td>\n",
       "      <td>NaN</td>\n",
       "      <td>NaN</td>\n",
       "      <td>NaN</td>\n",
       "    </tr>\n",
       "  </tbody>\n",
       "</table>\n",
       "</div>"
      ],
      "text/plain": [
       "   index        id contact_city contact_state  \\\n",
       "0      0  44520267        Anoka            MN   \n",
       "1      1  44698509    Groveland            FL   \n",
       "2      2  45983838    Adamstown            MD   \n",
       "3      3  44475904  Saint Cloud            MN   \n",
       "4      4  43877389       Pueblo            CO   \n",
       "\n",
       "                                         description        found    manual  \\\n",
       "0  Boris is a handsome mini schnauzer who made hi...     Arkansas       NaN   \n",
       "1  Duke is an almost 2 year old Potcake from Abac...      Bahamas   Bahamas   \n",
       "2  Zac Woof-ron is a heartthrob movie star lookin...     Maryland  Maryland   \n",
       "3  ~~Came in to the shelter as a transfer from an...      Adaptil       NaN   \n",
       "4  Palang is such a sweetheart. She loves her peo...  Afghanistan       NaN   \n",
       "\n",
       "  remove still_there  \n",
       "0    NaN         NaN  \n",
       "1    NaN         NaN  \n",
       "2    NaN         NaN  \n",
       "3   True         NaN  \n",
       "4    NaN         NaN  "
      ]
     },
     "execution_count": 42,
     "metadata": {},
     "output_type": "execute_result"
    }
   ],
   "source": [
    "df2['found'] = df2['manual'].where(df2['manual'].notnull(), df2['found'])\n",
    "df2.head()"
   ]
  },
  {
   "cell_type": "markdown",
   "id": "34f497d6-3e6d-44de-947b-af9dcb4921ec",
   "metadata": {},
   "source": [
    "## 9. For each state, compute the ratio between the number of travels and the population."
   ]
  },
  {
   "cell_type": "code",
   "execution_count": 43,
   "id": "7842f5a9-58f1-4b65-8f46-3468121acb99",
   "metadata": {},
   "outputs": [],
   "source": [
    "## nel dataframe df2 ogni valore di found con un valore di id diverso rappresenta un viaggio\n",
    "## trovare il numero di viaggi per ogni stato\n",
    "##matchare col dataframe NST_EST2021"
   ]
  },
  {
   "cell_type": "code",
   "execution_count": 44,
   "id": "9cd7870b-6c39-48a6-9b2b-1be7db00fcc9",
   "metadata": {},
   "outputs": [],
   "source": [
    "grouped = df2.groupby('found')['id'].nunique()"
   ]
  },
  {
   "cell_type": "code",
   "execution_count": 45,
   "id": "2fd39dcd-5288-4f2c-a251-1ce1c6667974",
   "metadata": {},
   "outputs": [],
   "source": [
    "result = grouped.reset_index().rename(columns={'id': 'viaggi','found':'stato'})[['stato', 'viaggi']]\n",
    "pop=pd.read_csv(\"adoptions/NST-EST2021-POP.csv\", header=None)\n",
    "pop.columns = ['stato', 'population']"
   ]
  },
  {
   "cell_type": "code",
   "execution_count": 46,
   "id": "7f6a7fc0-0e9f-419f-a52e-27777d00e4a0",
   "metadata": {},
   "outputs": [],
   "source": [
    "#tengo solo i risultati in comune e droppo i 2 non in comune\n",
    "mask = pop['stato'].isin(result['stato'])\n",
    "pop = pop[mask]\n",
    "#print(pop)"
   ]
  },
  {
   "cell_type": "code",
   "execution_count": 47,
   "id": "fa2c7554-08aa-4eb8-be39-e6e640a45307",
   "metadata": {},
   "outputs": [
    {
     "data": {
      "text/html": [
       "<div>\n",
       "<style scoped>\n",
       "    .dataframe tbody tr th:only-of-type {\n",
       "        vertical-align: middle;\n",
       "    }\n",
       "\n",
       "    .dataframe tbody tr th {\n",
       "        vertical-align: top;\n",
       "    }\n",
       "\n",
       "    .dataframe thead th {\n",
       "        text-align: right;\n",
       "    }\n",
       "</style>\n",
       "<table border=\"1\" class=\"dataframe\">\n",
       "  <thead>\n",
       "    <tr style=\"text-align: right;\">\n",
       "      <th></th>\n",
       "      <th>stato</th>\n",
       "      <th>population</th>\n",
       "      <th>viaggi</th>\n",
       "      <th>viaggi/population</th>\n",
       "    </tr>\n",
       "  </thead>\n",
       "  <tbody>\n",
       "    <tr>\n",
       "      <th>0</th>\n",
       "      <td>Alabama</td>\n",
       "      <td>5024279</td>\n",
       "      <td>325</td>\n",
       "      <td>0.000065</td>\n",
       "    </tr>\n",
       "    <tr>\n",
       "      <th>1</th>\n",
       "      <td>Arizona</td>\n",
       "      <td>7151502</td>\n",
       "      <td>32</td>\n",
       "      <td>0.000004</td>\n",
       "    </tr>\n",
       "    <tr>\n",
       "      <th>2</th>\n",
       "      <td>Arkansas</td>\n",
       "      <td>3011524</td>\n",
       "      <td>55</td>\n",
       "      <td>0.000018</td>\n",
       "    </tr>\n",
       "    <tr>\n",
       "      <th>3</th>\n",
       "      <td>California</td>\n",
       "      <td>39538223</td>\n",
       "      <td>138</td>\n",
       "      <td>0.000003</td>\n",
       "    </tr>\n",
       "    <tr>\n",
       "      <th>4</th>\n",
       "      <td>Colorado</td>\n",
       "      <td>5773714</td>\n",
       "      <td>7</td>\n",
       "      <td>0.000001</td>\n",
       "    </tr>\n",
       "  </tbody>\n",
       "</table>\n",
       "</div>"
      ],
      "text/plain": [
       "        stato  population  viaggi  viaggi/population\n",
       "0     Alabama     5024279     325           0.000065\n",
       "1     Arizona     7151502      32           0.000004\n",
       "2    Arkansas     3011524      55           0.000018\n",
       "3  California    39538223     138           0.000003\n",
       "4    Colorado     5773714       7           0.000001"
      ]
     },
     "execution_count": 47,
     "metadata": {},
     "output_type": "execute_result"
    }
   ],
   "source": [
    "#MEGING DELLA COLONNA VIAGGI E CALCOLO DEL RATIO\n",
    "merged = pd.merge(pop, result, on='stato')\n",
    "#print(merged)\n",
    "merged['viaggi'] = pd.to_numeric(merged['viaggi'])\n",
    "merged['population'] = pd.to_numeric(merged['population'].str.replace('.', '', regex=True))\n",
    "merged['viaggi/population'] = merged['viaggi'] / merged['population']\n",
    "merged.head()"
   ]
  },
  {
   "cell_type": "markdown",
   "id": "bda13c63-329b-4556-91a7-c8012715f689",
   "metadata": {},
   "source": [
    "## 10. For each dog, compute the number of days from the posted day to the day of last access."
   ]
  },
  {
   "cell_type": "code",
   "execution_count": 48,
   "id": "d9994d86-1926-4346-beed-6b85ddc0ce5b",
   "metadata": {},
   "outputs": [],
   "source": [
    "#controllo se ci sono cani ripetuti(id ripetuti)"
   ]
  },
  {
   "cell_type": "code",
   "execution_count": 49,
   "id": "a7312c68-158e-4b45-a093-e16323461706",
   "metadata": {},
   "outputs": [
    {
     "data": {
      "text/plain": [
       "(0, 37)"
      ]
     },
     "execution_count": 49,
     "metadata": {},
     "output_type": "execute_result"
    }
   ],
   "source": [
    "#non ci sono duplicati\n",
    "is_duplicate=df[\"id\"].duplicated()\n",
    "duplicated=df[is_duplicate]\n",
    "duplicated.shape"
   ]
  },
  {
   "cell_type": "code",
   "execution_count": 50,
   "id": "a2690141-8e39-4784-b7f5-7feeec6530c2",
   "metadata": {},
   "outputs": [],
   "source": [
    "#converto i valori in formato datetime\n",
    "df['posted'] = pd.to_datetime(df['posted']).dt.date\n",
    "df['accessed'] = pd.to_datetime(df['accessed']).dt.date"
   ]
  },
  {
   "cell_type": "code",
   "execution_count": 51,
   "id": "2ec11787-9fb4-41c1-8260-254d7a9c328a",
   "metadata": {},
   "outputs": [],
   "source": [
    "#calcolo la differenza tra posted e accessed\n",
    "time_diff = df['accessed'] - df['posted']\n",
    "#converto la differenza in giorni\n",
    "days_diff = time_diff.dt.days\n",
    "# aggiungo la colonna DaysDiffs al dataframe\n",
    "df['DaysDiff'] = days_diff\n",
    "result=df[['id','posted','accessed','DaysDiff']].copy()"
   ]
  },
  {
   "cell_type": "markdown",
   "id": "6f7d98b0-3af0-4dad-86de-831331b59af1",
   "metadata": {},
   "source": [
    "MOSTRO I RISULTATI IN ORDINE DECRESCENTE"
   ]
  },
  {
   "cell_type": "code",
   "execution_count": 52,
   "id": "30ebfeeb-74be-4776-a255-888213f77d2e",
   "metadata": {},
   "outputs": [
    {
     "data": {
      "text/html": [
       "<div>\n",
       "<style scoped>\n",
       "    .dataframe tbody tr th:only-of-type {\n",
       "        vertical-align: middle;\n",
       "    }\n",
       "\n",
       "    .dataframe tbody tr th {\n",
       "        vertical-align: top;\n",
       "    }\n",
       "\n",
       "    .dataframe thead th {\n",
       "        text-align: right;\n",
       "    }\n",
       "</style>\n",
       "<table border=\"1\" class=\"dataframe\">\n",
       "  <thead>\n",
       "    <tr style=\"text-align: right;\">\n",
       "      <th></th>\n",
       "      <th>id</th>\n",
       "      <th>posted</th>\n",
       "      <th>accessed</th>\n",
       "      <th>DaysDiff</th>\n",
       "    </tr>\n",
       "  </thead>\n",
       "  <tbody>\n",
       "    <tr>\n",
       "      <th>5781</th>\n",
       "      <td>604115</td>\n",
       "      <td>2003-05-18</td>\n",
       "      <td>2019-09-20</td>\n",
       "      <td>5969</td>\n",
       "    </tr>\n",
       "    <tr>\n",
       "      <th>5780</th>\n",
       "      <td>2592031</td>\n",
       "      <td>2004-02-23</td>\n",
       "      <td>2019-09-20</td>\n",
       "      <td>5688</td>\n",
       "    </tr>\n",
       "    <tr>\n",
       "      <th>55505</th>\n",
       "      <td>2613506</td>\n",
       "      <td>2004-02-29</td>\n",
       "      <td>2019-09-20</td>\n",
       "      <td>5682</td>\n",
       "    </tr>\n",
       "    <tr>\n",
       "      <th>34231</th>\n",
       "      <td>4527948</td>\n",
       "      <td>2005-05-30</td>\n",
       "      <td>2019-09-20</td>\n",
       "      <td>5226</td>\n",
       "    </tr>\n",
       "    <tr>\n",
       "      <th>44815</th>\n",
       "      <td>5142790</td>\n",
       "      <td>2005-09-26</td>\n",
       "      <td>2019-09-20</td>\n",
       "      <td>5107</td>\n",
       "    </tr>\n",
       "  </tbody>\n",
       "</table>\n",
       "</div>"
      ],
      "text/plain": [
       "            id      posted    accessed  DaysDiff\n",
       "5781    604115  2003-05-18  2019-09-20      5969\n",
       "5780   2592031  2004-02-23  2019-09-20      5688\n",
       "55505  2613506  2004-02-29  2019-09-20      5682\n",
       "34231  4527948  2005-05-30  2019-09-20      5226\n",
       "44815  5142790  2005-09-26  2019-09-20      5107"
      ]
     },
     "execution_count": 52,
     "metadata": {},
     "output_type": "execute_result"
    }
   ],
   "source": [
    "result.sort_values(\"DaysDiff\", ascending=False).head()"
   ]
  },
  {
   "cell_type": "markdown",
   "id": "ccd385a6-dabc-4c93-8551-7e12366faf31",
   "metadata": {},
   "source": [
    "## 11. Partition the dogs according to the number of weeks from the posted day to the day of last access."
   ]
  },
  {
   "cell_type": "markdown",
   "id": "f1e3690d-9dd8-4ce0-a7d8-7f458eafe0e1",
   "metadata": {},
   "source": [
    "PER OGNI RECORD MOSTRO IL NUMERO DI SETTIMANE TRASCORSE"
   ]
  },
  {
   "cell_type": "code",
   "execution_count": 53,
   "id": "1b829033-99b8-43e2-87cd-e518514fa3d2",
   "metadata": {},
   "outputs": [],
   "source": [
    "result['settimane'] = result['DaysDiff'] // 7\n",
    "groups = result.groupby('settimane')\n",
    "new_df = groups.apply(lambda x: x)"
   ]
  },
  {
   "cell_type": "code",
   "execution_count": 54,
   "id": "d2d0be86-77c5-4379-b1e3-fbc4895ffe73",
   "metadata": {},
   "outputs": [
    {
     "data": {
      "text/html": [
       "<div>\n",
       "<style scoped>\n",
       "    .dataframe tbody tr th:only-of-type {\n",
       "        vertical-align: middle;\n",
       "    }\n",
       "\n",
       "    .dataframe tbody tr th {\n",
       "        vertical-align: top;\n",
       "    }\n",
       "\n",
       "    .dataframe thead th {\n",
       "        text-align: right;\n",
       "    }\n",
       "</style>\n",
       "<table border=\"1\" class=\"dataframe\">\n",
       "  <thead>\n",
       "    <tr style=\"text-align: right;\">\n",
       "      <th></th>\n",
       "      <th>id</th>\n",
       "      <th>posted</th>\n",
       "      <th>accessed</th>\n",
       "      <th>DaysDiff</th>\n",
       "      <th>settimane</th>\n",
       "    </tr>\n",
       "  </thead>\n",
       "  <tbody>\n",
       "    <tr>\n",
       "      <th>0</th>\n",
       "      <td>46042150</td>\n",
       "      <td>2019-09-20</td>\n",
       "      <td>2019-09-20</td>\n",
       "      <td>0</td>\n",
       "      <td>0</td>\n",
       "    </tr>\n",
       "    <tr>\n",
       "      <th>1</th>\n",
       "      <td>46042002</td>\n",
       "      <td>2019-09-20</td>\n",
       "      <td>2019-09-20</td>\n",
       "      <td>0</td>\n",
       "      <td>0</td>\n",
       "    </tr>\n",
       "    <tr>\n",
       "      <th>2</th>\n",
       "      <td>46040898</td>\n",
       "      <td>2019-09-20</td>\n",
       "      <td>2019-09-20</td>\n",
       "      <td>0</td>\n",
       "      <td>0</td>\n",
       "    </tr>\n",
       "    <tr>\n",
       "      <th>3</th>\n",
       "      <td>46039877</td>\n",
       "      <td>2019-09-20</td>\n",
       "      <td>2019-09-20</td>\n",
       "      <td>0</td>\n",
       "      <td>0</td>\n",
       "    </tr>\n",
       "    <tr>\n",
       "      <th>4</th>\n",
       "      <td>46039306</td>\n",
       "      <td>2019-09-20</td>\n",
       "      <td>2019-09-20</td>\n",
       "      <td>0</td>\n",
       "      <td>0</td>\n",
       "    </tr>\n",
       "  </tbody>\n",
       "</table>\n",
       "</div>"
      ],
      "text/plain": [
       "         id      posted    accessed  DaysDiff  settimane\n",
       "0  46042150  2019-09-20  2019-09-20         0          0\n",
       "1  46042002  2019-09-20  2019-09-20         0          0\n",
       "2  46040898  2019-09-20  2019-09-20         0          0\n",
       "3  46039877  2019-09-20  2019-09-20         0          0\n",
       "4  46039306  2019-09-20  2019-09-20         0          0"
      ]
     },
     "execution_count": 54,
     "metadata": {},
     "output_type": "execute_result"
    }
   ],
   "source": [
    "new_df.head()"
   ]
  },
  {
   "cell_type": "markdown",
   "id": "01562524-90a2-48e1-b3af-6217daa6a4ba",
   "metadata": {},
   "source": [
    "PER OGNI SETTIMANA MOSTRO IL NUMERO DI RECORD"
   ]
  },
  {
   "cell_type": "code",
   "execution_count": 55,
   "id": "a8227ac7-c863-4980-9866-8abac27828d6",
   "metadata": {},
   "outputs": [],
   "source": [
    "# Creo una nuova colonna chiamata \"settimane\" \n",
    "result['settimane'] = result['DaysDiff'] // 7\n",
    "# Raggruppo i cani in base al numero di settimane trascorse\n",
    "groups = result.groupby('settimane')\n",
    "new_df = groups.size().reset_index(name='num_cani')\n",
    "new_df = new_df.set_index('settimane')"
   ]
  },
  {
   "cell_type": "code",
   "execution_count": 56,
   "id": "027c132b-0be0-4794-ad3f-5ed2fa44395c",
   "metadata": {},
   "outputs": [
    {
     "data": {
      "text/html": [
       "<div>\n",
       "<style scoped>\n",
       "    .dataframe tbody tr th:only-of-type {\n",
       "        vertical-align: middle;\n",
       "    }\n",
       "\n",
       "    .dataframe tbody tr th {\n",
       "        vertical-align: top;\n",
       "    }\n",
       "\n",
       "    .dataframe thead th {\n",
       "        text-align: right;\n",
       "    }\n",
       "</style>\n",
       "<table border=\"1\" class=\"dataframe\">\n",
       "  <thead>\n",
       "    <tr style=\"text-align: right;\">\n",
       "      <th></th>\n",
       "      <th>num_cani</th>\n",
       "    </tr>\n",
       "    <tr>\n",
       "      <th>settimane</th>\n",
       "      <th></th>\n",
       "    </tr>\n",
       "  </thead>\n",
       "  <tbody>\n",
       "    <tr>\n",
       "      <th>0</th>\n",
       "      <td>9765</td>\n",
       "    </tr>\n",
       "    <tr>\n",
       "      <th>1</th>\n",
       "      <td>6530</td>\n",
       "    </tr>\n",
       "    <tr>\n",
       "      <th>2</th>\n",
       "      <td>5745</td>\n",
       "    </tr>\n",
       "    <tr>\n",
       "      <th>3</th>\n",
       "      <td>3341</td>\n",
       "    </tr>\n",
       "    <tr>\n",
       "      <th>4</th>\n",
       "      <td>2434</td>\n",
       "    </tr>\n",
       "  </tbody>\n",
       "</table>\n",
       "</div>"
      ],
      "text/plain": [
       "           num_cani\n",
       "settimane          \n",
       "0              9765\n",
       "1              6530\n",
       "2              5745\n",
       "3              3341\n",
       "4              2434"
      ]
     },
     "execution_count": 56,
     "metadata": {},
     "output_type": "execute_result"
    }
   ],
   "source": [
    "new_df.head()"
   ]
  },
  {
   "cell_type": "markdown",
   "id": "f0aee501-3e0b-4308-b12f-2e9362bb509b",
   "metadata": {},
   "source": [
    "## 12. Find for duplicates in the dogs dataset. Two records are duplicates if they have (1) same breeds and sex, and (2) they share at least 90% of the words in the description field. Extra points if you find and implement a more refined for determining if two rows are duplicates."
   ]
  },
  {
   "cell_type": "markdown",
   "id": "f7b53521-9d82-4f0c-b94d-1a45beb3646c",
   "metadata": {},
   "source": [
    "TROVO I CANI CHE HANNO STESSA RAZZA E STESSO SESSO E CONVERTO DESCRIPTION IN STRINGA"
   ]
  },
  {
   "cell_type": "code",
   "execution_count": 57,
   "id": "2057b7d4-9d10-4f47-bc0c-32fb3a879485",
   "metadata": {},
   "outputs": [],
   "source": [
    "df2=df.sort_values(by=['breed_primary', 'sex'])"
   ]
  },
  {
   "cell_type": "code",
   "execution_count": 58,
   "id": "280953a1-bdc7-413e-a218-d7d769d86a87",
   "metadata": {},
   "outputs": [],
   "source": [
    "df2['description'] = df2['description'].astype(str)"
   ]
  },
  {
   "cell_type": "markdown",
   "id": "6c95fa56-2e86-4d90-b8bc-d5e58076628b",
   "metadata": {},
   "source": [
    "ELIMINO LE DESCRIZIONI VUOTE"
   ]
  },
  {
   "cell_type": "code",
   "execution_count": 59,
   "id": "ee948993-00bf-488d-9f37-ffe1b6a71ce9",
   "metadata": {},
   "outputs": [
    {
     "name": "stdout",
     "output_type": "stream",
     "text": [
      "8676\n"
     ]
    }
   ],
   "source": [
    "df2['description'].replace('nan', np.nan, inplace=True)\n",
    "print(df2['description'].isnull().sum())"
   ]
  },
  {
   "cell_type": "code",
   "execution_count": 60,
   "id": "e9e292f6-06c1-4efe-bdd2-0870eae8b062",
   "metadata": {},
   "outputs": [
    {
     "data": {
      "text/plain": [
       "(49306, 38)"
      ]
     },
     "execution_count": 60,
     "metadata": {},
     "output_type": "execute_result"
    }
   ],
   "source": [
    "df2.dropna(subset=['description'], inplace=True)\n",
    "df2.shape"
   ]
  },
  {
   "cell_type": "markdown",
   "id": "d21b9e45-d13e-4017-84d8-2b940781f708",
   "metadata": {},
   "source": [
    "TEXT-PREPROCESSING"
   ]
  },
  {
   "cell_type": "markdown",
   "id": "b3fd36a0-2e77-48cc-bf8f-3c74a368035a",
   "metadata": {},
   "source": [
    "ELIMINO I LINK"
   ]
  },
  {
   "cell_type": "code",
   "execution_count": 61,
   "id": "fb269aac-1462-4b09-a013-6db5da8ef2a7",
   "metadata": {},
   "outputs": [],
   "source": [
    "#1 RIMUOVO I LINK\n",
    "import re\n",
    "# Define a regular expression pattern for finding links in text\n",
    "pattern = r'(https?://[^\\s]+)|(\\bwww\\.[^\\s]+)'\n",
    "def remove_links(text):\n",
    "    # Use the regular expression pattern to find and remove links in the text\n",
    "    text_without_links = re.sub(pattern, '', text)\n",
    "    return text_without_links\n",
    "# Apply the remove_links function to the 'description' column of the dataframe\n",
    "df2['description'] = df2['description'].apply(remove_links)"
   ]
  },
  {
   "cell_type": "markdown",
   "id": "81eb898a-5530-4a96-a71f-6cc354070a90",
   "metadata": {},
   "source": [
    "RIMUOVO LA PUNTEGGIATURA E PORTO IN LOWERCASE "
   ]
  },
  {
   "cell_type": "code",
   "execution_count": 62,
   "id": "7bde1662-3999-4399-bb6d-9dc69e13b5b0",
   "metadata": {},
   "outputs": [],
   "source": [
    "def clean_text(text):\n",
    "    # Porta il testo in lowercase\n",
    "    text = text.lower()\n",
    "    # Rimuove la punteggiatura\n",
    "    translator = str.maketrans('', '', string.punctuation)\n",
    "    text = text.translate(translator)\n",
    "    return text\n",
    "df2['description'] = df2['description'].apply(clean_text)"
   ]
  },
  {
   "cell_type": "markdown",
   "id": "c7e4e553-2835-4f3c-8fbb-c347450fe790",
   "metadata": {},
   "source": [
    "RIMUOVO LE STOPWORDS"
   ]
  },
  {
   "cell_type": "code",
   "execution_count": 63,
   "id": "4316a5de-e38b-4fc7-a3ee-c6cb57128837",
   "metadata": {},
   "outputs": [],
   "source": [
    "stop_words = set(stopwords.words('english'))\n",
    "\n",
    "# Funzione per rimuovere le stopwords dal testo\n",
    "def remove_stopwords(text):\n",
    "    # Dividiamo il testo in parole\n",
    "    words = text.split()\n",
    "    # Rimuoviamo le stopwords\n",
    "    filtered_words = [word for word in words if word.lower() not in stop_words]\n",
    "    # Ricomponiamo il testo senza le stopwords\n",
    "    text_without_stopwords = ' '.join(filtered_words)\n",
    "    return text_without_stopwords\n",
    "\n",
    "# Applichiamo la funzione di rimozione delle stopwords alla colonna \"description\" del DataFrame\n",
    "df2['description'] = df2['description'].apply(remove_stopwords)"
   ]
  },
  {
   "cell_type": "code",
   "execution_count": 64,
   "id": "1370e619-8f73-4d92-b34d-711b1b59de68",
   "metadata": {},
   "outputs": [],
   "source": [
    "#PRENDO UNO SLICE DI DF3 \n",
    "df4=df2.copy()\n",
    "df4=df4[[\"id\",\"name\",\"breed_primary\",\"sex\",\"description\"]]\n",
    "#df4.to_csv('leven/df4.csv')\n",
    "#print(df4.iloc[92])\n",
    "df4.drop(df4[df4['sex'] == 'Unknown'].index, inplace=True)"
   ]
  },
  {
   "cell_type": "code",
   "execution_count": 65,
   "id": "e1e565a9-3f5a-4ca2-90c2-c78cfccc6129",
   "metadata": {},
   "outputs": [
    {
     "data": {
      "text/plain": [
       "(49303, 5)"
      ]
     },
     "execution_count": 65,
     "metadata": {},
     "output_type": "execute_result"
    }
   ],
   "source": [
    "df4.shape"
   ]
  },
  {
   "cell_type": "markdown",
   "id": "051d107a-307e-49e4-b9c5-f2953536f989",
   "metadata": {},
   "source": [
    "### UTILIZZO LA LIBRERIA sklearn, in particolare utilizzo:\n",
    "\n",
    "* CountVectorizer * : questa classe viene utilizzata per creare la rappresentazione vettoriale delle descrizioni dei cani.\n",
    "\n",
    "* cosine_similarity* : questa funzione calcola la similarità coseno tra le righe di una matrice. \n",
    "\n",
    "La variabile X è una matrice densa (ossia una matrice di numeri reali in cui ogni cella contiene un valore) ottenuta dalla rappresentazione vettoriale delle descrizioni. La dimensione di questa matrice sarà pari al numero di descrizioni per il numero di parole nel dizionario.\n",
    "\n",
    "La variabile sim_matrix, invece, è una matrice quadrata (ossia una matrice con lo stesso numero di righe e colonne) che rappresenta la similarità coseno tra ogni coppia di descrizioni presenti nella matrice X. La dimensione di questa matrice sarà pari al numero di descrizioni per il numero di descrizioni.\n",
    " \n",
    "Sim_indices conterrà quindi una lista di indici di descrizioni simili per ogni descrizione presente nel DataFrame.\n",
    "\n",
    "la variabile coppia è una tupla che contiene gli indici di due descrizioni simili. La similarità tra queste due descrizioni viene quindi calcolata utilizzando l'indice corrispondente nella matrice sim_matrix e viene memorizzata come valore della chiave 'similarity' nella variabile coppia_complete.\n"
   ]
  },
  {
   "cell_type": "code",
   "execution_count": 66,
   "id": "f82a8951-c1d0-495e-9745-f981e8a7d7d4",
   "metadata": {},
   "outputs": [],
   "source": [
    "def generate_couples(subset):\n",
    "    # creazione della rappresentazione vettoriale delle descrizioni\n",
    "    descrizioni = subset['description'].tolist()\n",
    "    vectorizer = CountVectorizer()\n",
    "    X = vectorizer.fit_transform(descrizioni)\n",
    "\n",
    "    # calcolo della similarità coseno tra le descrizioni\n",
    "    sim_matrix = cosine_similarity(X)\n",
    "\n",
    "    # ottenimento degli indici delle descrizioni simili\n",
    "    sim_indices = pd.DataFrame(sim_matrix, columns=subset.index, index=subset.index)\n",
    "    sim_indices = sim_indices.apply(lambda x: x[x >= 0.9].index.tolist(), axis=1)\n",
    "    sim_indices = sim_indices[sim_indices.apply(len) > 1]\n",
    "\n",
    "    # creazione delle coppie complete\n",
    "    coppie_complete = []\n",
    "    coppie_viste = set()\n",
    "    for _, ids in sim_indices.items():\n",
    "        for coppia in combinations(ids, 2):\n",
    "            # verifica se la coppia è già stata vista\n",
    "            if coppia in coppie_viste:\n",
    "                continue\n",
    "            #ULTERIORE CONTROLLO PER CONSIDERARE SOLO LE COPPIE CON SIMILARITò >=90    \n",
    "            if sim_matrix[subset.index.get_loc(coppia[0]), subset.index.get_loc(coppia[1])] >= 0.9:\n",
    "                coppia_complete = {'id1': subset.loc[coppia[0], 'id'],\n",
    "                       'id2': subset.loc[coppia[1], 'id'],\n",
    "                       'name1': subset.loc[coppia[0], 'name'],\n",
    "                       'name2': subset.loc[coppia[1], 'name'],\n",
    "                       'descrizione1': subset.loc[coppia[0], 'description'],\n",
    "                       'descrizione2': subset.loc[coppia[1], 'description'],\n",
    "                       'breed_primary1': subset.loc[coppia[0], 'breed_primary'],\n",
    "                       'breed_primary2': subset.loc[coppia[1], 'breed_primary'],\n",
    "                       'sex1': subset.loc[coppia[0], 'sex'],\n",
    "                       'sex2': subset.loc[coppia[1], 'sex'],\n",
    "                       'similarity': sim_matrix[subset.index.get_loc(coppia[0]), subset.index.get_loc(coppia[1])]\n",
    "                      }\n",
    "                coppie_complete.append(coppia_complete)\n",
    "                coppie_viste.add(coppia)\n",
    "    return coppie_complete\n",
    "\n",
    "def find_pairs_with_groups(cani):\n",
    "    # raggruppa gli id per sesso e razza\n",
    "    groups = cani.groupby(['sex', 'breed_primary'])['id'].apply(set)\n",
    "\n",
    "    coppie_complete = []\n",
    "    for group in groups:\n",
    "        # filtra i cani del gruppo\n",
    "        subset = cani.loc[cani['id'].isin(group)]\n",
    "        coppie_complete.extend(generate_couples(subset))\n",
    "\n",
    "    return coppie_complete\n"
   ]
  },
  {
   "cell_type": "code",
   "execution_count": 67,
   "id": "dd7ea726-b1d3-4117-948b-3af4a687b684",
   "metadata": {},
   "outputs": [
    {
     "data": {
      "text/plain": [
       "(49303, 5)"
      ]
     },
     "execution_count": 67,
     "metadata": {},
     "output_type": "execute_result"
    }
   ],
   "source": [
    "cani2=df4.copy()\n",
    "cani2 = cani2.reset_index(drop=True)\n",
    "#cani2=cani2.head(20000)\n",
    "cani2.shape"
   ]
  },
  {
   "cell_type": "code",
   "execution_count": 68,
   "id": "5a7fd7fb-c80a-49f7-bb67-d34ada99793a",
   "metadata": {},
   "outputs": [
    {
     "name": "stdout",
     "output_type": "stream",
     "text": [
      "Tempo di esecuzione: 28.0184965133667 secondi\n"
     ]
    }
   ],
   "source": [
    "start_time = time.time()\n",
    "\n",
    "result2=find_pairs_with_groups(cani2)\n",
    "\n",
    "end_time = time.time()\n",
    "execution_time = end_time - start_time\n",
    "print(f\"Tempo di esecuzione: {execution_time} secondi\")"
   ]
  },
  {
   "cell_type": "code",
   "execution_count": 69,
   "id": "93e57f9b-146e-4a3c-865b-4e9a17340d9c",
   "metadata": {},
   "outputs": [
    {
     "data": {
      "text/plain": [
       "(9281, 11)"
      ]
     },
     "execution_count": 69,
     "metadata": {},
     "output_type": "execute_result"
    }
   ],
   "source": [
    "resultdef=pd.DataFrame(result2)\n",
    "resultdef.shape"
   ]
  },
  {
   "cell_type": "code",
   "execution_count": 70,
   "id": "b72ea173-2d4f-463b-bdc4-f85634aeca87",
   "metadata": {},
   "outputs": [
    {
     "data": {
      "text/html": [
       "<div>\n",
       "<style scoped>\n",
       "    .dataframe tbody tr th:only-of-type {\n",
       "        vertical-align: middle;\n",
       "    }\n",
       "\n",
       "    .dataframe tbody tr th {\n",
       "        vertical-align: top;\n",
       "    }\n",
       "\n",
       "    .dataframe thead th {\n",
       "        text-align: right;\n",
       "    }\n",
       "</style>\n",
       "<table border=\"1\" class=\"dataframe\">\n",
       "  <thead>\n",
       "    <tr style=\"text-align: right;\">\n",
       "      <th></th>\n",
       "      <th>id1</th>\n",
       "      <th>id2</th>\n",
       "      <th>name1</th>\n",
       "      <th>name2</th>\n",
       "      <th>descrizione1</th>\n",
       "      <th>descrizione2</th>\n",
       "      <th>breed_primary1</th>\n",
       "      <th>breed_primary2</th>\n",
       "      <th>sex1</th>\n",
       "      <th>sex2</th>\n",
       "      <th>similarity</th>\n",
       "    </tr>\n",
       "  </thead>\n",
       "  <tbody>\n",
       "    <tr>\n",
       "      <th>0</th>\n",
       "      <td>45970614</td>\n",
       "      <td>45871731</td>\n",
       "      <td>Elsie</td>\n",
       "      <td>Sidney</td>\n",
       "      <td>elsiejpgthank looking available pets cats felv...</td>\n",
       "      <td>55351jpgthank looking available pets cats felv...</td>\n",
       "      <td>Affenpinscher</td>\n",
       "      <td>Affenpinscher</td>\n",
       "      <td>Female</td>\n",
       "      <td>Female</td>\n",
       "      <td>0.990826</td>\n",
       "    </tr>\n",
       "    <tr>\n",
       "      <th>1</th>\n",
       "      <td>46023964</td>\n",
       "      <td>46023963</td>\n",
       "      <td>MAYA</td>\n",
       "      <td>LEAH</td>\n",
       "      <td>adoption fee fully sponsored adopt pay 000</td>\n",
       "      <td>adoption fee fully sponsored adopt pay 000</td>\n",
       "      <td>Alaskan Malamute</td>\n",
       "      <td>Alaskan Malamute</td>\n",
       "      <td>Female</td>\n",
       "      <td>Female</td>\n",
       "      <td>1.000000</td>\n",
       "    </tr>\n",
       "    <tr>\n",
       "      <th>2</th>\n",
       "      <td>45990095</td>\n",
       "      <td>45989321</td>\n",
       "      <td>191216 Ranga</td>\n",
       "      <td>191585 Mia</td>\n",
       "      <td>ranga three month old pup came us stray puppy ...</td>\n",
       "      <td>mia looks year old around 40 lbs timid girl fi...</td>\n",
       "      <td>American Bulldog</td>\n",
       "      <td>American Bulldog</td>\n",
       "      <td>Female</td>\n",
       "      <td>Female</td>\n",
       "      <td>0.928593</td>\n",
       "    </tr>\n",
       "    <tr>\n",
       "      <th>3</th>\n",
       "      <td>45897570</td>\n",
       "      <td>45897563</td>\n",
       "      <td>Mercury</td>\n",
       "      <td>Neptune</td>\n",
       "      <td>pretty little girl lives foster home enjoys sn...</td>\n",
       "      <td>neptune lives foster home enjoys snuggles play...</td>\n",
       "      <td>American Bulldog</td>\n",
       "      <td>American Bulldog</td>\n",
       "      <td>Female</td>\n",
       "      <td>Female</td>\n",
       "      <td>0.935971</td>\n",
       "    </tr>\n",
       "    <tr>\n",
       "      <th>4</th>\n",
       "      <td>45897570</td>\n",
       "      <td>45872595</td>\n",
       "      <td>Mercury</td>\n",
       "      <td>Jupiter</td>\n",
       "      <td>pretty little girl lives foster home enjoys sn...</td>\n",
       "      <td>precious jupiter lives foster home enjoys snug...</td>\n",
       "      <td>American Bulldog</td>\n",
       "      <td>American Bulldog</td>\n",
       "      <td>Female</td>\n",
       "      <td>Female</td>\n",
       "      <td>0.920751</td>\n",
       "    </tr>\n",
       "    <tr>\n",
       "      <th>5</th>\n",
       "      <td>45897563</td>\n",
       "      <td>45872595</td>\n",
       "      <td>Neptune</td>\n",
       "      <td>Jupiter</td>\n",
       "      <td>neptune lives foster home enjoys snuggles play...</td>\n",
       "      <td>precious jupiter lives foster home enjoys snug...</td>\n",
       "      <td>American Bulldog</td>\n",
       "      <td>American Bulldog</td>\n",
       "      <td>Female</td>\n",
       "      <td>Female</td>\n",
       "      <td>0.950947</td>\n",
       "    </tr>\n",
       "    <tr>\n",
       "      <th>6</th>\n",
       "      <td>43170920</td>\n",
       "      <td>42087185</td>\n",
       "      <td>Mollie</td>\n",
       "      <td>Molly</td>\n",
       "      <td>dogs adopted troy animal rescue project date v...</td>\n",
       "      <td>chickens cats dogs adopted troy animal rescue ...</td>\n",
       "      <td>American Bulldog</td>\n",
       "      <td>American Bulldog</td>\n",
       "      <td>Female</td>\n",
       "      <td>Female</td>\n",
       "      <td>0.971825</td>\n",
       "    </tr>\n",
       "    <tr>\n",
       "      <th>7</th>\n",
       "      <td>45639449</td>\n",
       "      <td>45639446</td>\n",
       "      <td>Lola Jewel</td>\n",
       "      <td>Lola Jewel</td>\n",
       "      <td>lola jewel jewel foster says 3yrs old guesstim...</td>\n",
       "      <td>lola jewel jewel foster says 3yrs old guesstim...</td>\n",
       "      <td>American Bulldog</td>\n",
       "      <td>American Bulldog</td>\n",
       "      <td>Female</td>\n",
       "      <td>Female</td>\n",
       "      <td>1.000000</td>\n",
       "    </tr>\n",
       "    <tr>\n",
       "      <th>8</th>\n",
       "      <td>45255573</td>\n",
       "      <td>45252099</td>\n",
       "      <td>Cheyenne - Courtesy Listing</td>\n",
       "      <td>Cheyenne - Courtesy Listing</td>\n",
       "      <td>people inquiring pets listed courtesy listings...</td>\n",
       "      <td>people inquiring pets listed courtesy listings...</td>\n",
       "      <td>American Bulldog</td>\n",
       "      <td>American Bulldog</td>\n",
       "      <td>Female</td>\n",
       "      <td>Female</td>\n",
       "      <td>1.000000</td>\n",
       "    </tr>\n",
       "    <tr>\n",
       "      <th>9</th>\n",
       "      <td>44518435</td>\n",
       "      <td>44517341</td>\n",
       "      <td>Tyla</td>\n",
       "      <td>Tyla</td>\n",
       "      <td>meet tyla adorable american bulldog mix 411 yo...</td>\n",
       "      <td>meet tyla adorable american bulldog mix 411 yo...</td>\n",
       "      <td>American Bulldog</td>\n",
       "      <td>American Bulldog</td>\n",
       "      <td>Female</td>\n",
       "      <td>Female</td>\n",
       "      <td>1.000000</td>\n",
       "    </tr>\n",
       "  </tbody>\n",
       "</table>\n",
       "</div>"
      ],
      "text/plain": [
       "        id1       id2                        name1  \\\n",
       "0  45970614  45871731                        Elsie   \n",
       "1  46023964  46023963                         MAYA   \n",
       "2  45990095  45989321                 191216 Ranga   \n",
       "3  45897570  45897563                      Mercury   \n",
       "4  45897570  45872595                      Mercury   \n",
       "5  45897563  45872595                      Neptune   \n",
       "6  43170920  42087185                       Mollie   \n",
       "7  45639449  45639446                   Lola Jewel   \n",
       "8  45255573  45252099  Cheyenne - Courtesy Listing   \n",
       "9  44518435  44517341                         Tyla   \n",
       "\n",
       "                         name2  \\\n",
       "0                       Sidney   \n",
       "1                         LEAH   \n",
       "2                   191585 Mia   \n",
       "3                      Neptune   \n",
       "4                      Jupiter   \n",
       "5                      Jupiter   \n",
       "6                        Molly   \n",
       "7                   Lola Jewel   \n",
       "8  Cheyenne - Courtesy Listing   \n",
       "9                         Tyla   \n",
       "\n",
       "                                        descrizione1  \\\n",
       "0  elsiejpgthank looking available pets cats felv...   \n",
       "1         adoption fee fully sponsored adopt pay 000   \n",
       "2  ranga three month old pup came us stray puppy ...   \n",
       "3  pretty little girl lives foster home enjoys sn...   \n",
       "4  pretty little girl lives foster home enjoys sn...   \n",
       "5  neptune lives foster home enjoys snuggles play...   \n",
       "6  dogs adopted troy animal rescue project date v...   \n",
       "7  lola jewel jewel foster says 3yrs old guesstim...   \n",
       "8  people inquiring pets listed courtesy listings...   \n",
       "9  meet tyla adorable american bulldog mix 411 yo...   \n",
       "\n",
       "                                        descrizione2    breed_primary1  \\\n",
       "0  55351jpgthank looking available pets cats felv...     Affenpinscher   \n",
       "1         adoption fee fully sponsored adopt pay 000  Alaskan Malamute   \n",
       "2  mia looks year old around 40 lbs timid girl fi...  American Bulldog   \n",
       "3  neptune lives foster home enjoys snuggles play...  American Bulldog   \n",
       "4  precious jupiter lives foster home enjoys snug...  American Bulldog   \n",
       "5  precious jupiter lives foster home enjoys snug...  American Bulldog   \n",
       "6  chickens cats dogs adopted troy animal rescue ...  American Bulldog   \n",
       "7  lola jewel jewel foster says 3yrs old guesstim...  American Bulldog   \n",
       "8  people inquiring pets listed courtesy listings...  American Bulldog   \n",
       "9  meet tyla adorable american bulldog mix 411 yo...  American Bulldog   \n",
       "\n",
       "     breed_primary2    sex1    sex2  similarity  \n",
       "0     Affenpinscher  Female  Female    0.990826  \n",
       "1  Alaskan Malamute  Female  Female    1.000000  \n",
       "2  American Bulldog  Female  Female    0.928593  \n",
       "3  American Bulldog  Female  Female    0.935971  \n",
       "4  American Bulldog  Female  Female    0.920751  \n",
       "5  American Bulldog  Female  Female    0.950947  \n",
       "6  American Bulldog  Female  Female    0.971825  \n",
       "7  American Bulldog  Female  Female    1.000000  \n",
       "8  American Bulldog  Female  Female    1.000000  \n",
       "9  American Bulldog  Female  Female    1.000000  "
      ]
     },
     "execution_count": 70,
     "metadata": {},
     "output_type": "execute_result"
    }
   ],
   "source": [
    "resultdef.head(10)"
   ]
  },
  {
   "cell_type": "code",
   "execution_count": 102,
   "id": "97c5d699-be58-497c-9e77-f7368b8fd259",
   "metadata": {},
   "outputs": [],
   "source": [
    "#resultdef.sort_values('similarity',ascending=True).head(100)"
   ]
  },
  {
   "cell_type": "markdown",
   "id": "5a1fa5a2-b880-4c47-81e0-361cfa1307d0",
   "metadata": {},
   "source": [
    "## 12 bonus. SE LE DESCRIZIONI HANNO SIMILARITA' <1 CONTROLLO I NOMI.\n",
    "\n",
    "Questo controllo mi permette di filtrare i valori che non hanno descrizioni identiche ma si riferiscono allo stesso cane. "
   ]
  },
  {
   "cell_type": "code",
   "execution_count": 73,
   "id": "bb646c94-ddd2-4224-a156-bb78567f22a2",
   "metadata": {},
   "outputs": [],
   "source": [
    "# Creazione della maschera booleana per selezionare le righe con similarità < 1\n",
    "mask1 = resultdef['similarity'] < 0.99\n",
    "\n",
    "# Creazione della maschera booleana per selezionare le righe con lo stesso nome\n",
    "mask2 = resultdef['name1'] == resultdef['name2']\n",
    "\n",
    "# Combinazione delle maschere booleane con l'operatore logico &\n",
    "mask = mask1 & mask2\n",
    "\n",
    "# Applicazione della maschera booleana al DataFrame\n",
    "result_filtered = resultdef[mask]\n"
   ]
  },
  {
   "cell_type": "code",
   "execution_count": 74,
   "id": "6bd76707-224c-449f-90af-dc968a6580ec",
   "metadata": {},
   "outputs": [
    {
     "data": {
      "text/plain": [
       "(111, 11)"
      ]
     },
     "execution_count": 74,
     "metadata": {},
     "output_type": "execute_result"
    }
   ],
   "source": [
    "result_filtered.shape"
   ]
  },
  {
   "cell_type": "code",
   "execution_count": 75,
   "id": "87eccaba-493c-4b76-b4e2-eea4f23d0a96",
   "metadata": {
    "scrolled": true
   },
   "outputs": [
    {
     "data": {
      "text/html": [
       "<div>\n",
       "<style scoped>\n",
       "    .dataframe tbody tr th:only-of-type {\n",
       "        vertical-align: middle;\n",
       "    }\n",
       "\n",
       "    .dataframe tbody tr th {\n",
       "        vertical-align: top;\n",
       "    }\n",
       "\n",
       "    .dataframe thead th {\n",
       "        text-align: right;\n",
       "    }\n",
       "</style>\n",
       "<table border=\"1\" class=\"dataframe\">\n",
       "  <thead>\n",
       "    <tr style=\"text-align: right;\">\n",
       "      <th></th>\n",
       "      <th>id1</th>\n",
       "      <th>id2</th>\n",
       "      <th>name1</th>\n",
       "      <th>name2</th>\n",
       "      <th>descrizione1</th>\n",
       "      <th>descrizione2</th>\n",
       "      <th>breed_primary1</th>\n",
       "      <th>breed_primary2</th>\n",
       "      <th>sex1</th>\n",
       "      <th>sex2</th>\n",
       "      <th>similarity</th>\n",
       "    </tr>\n",
       "  </thead>\n",
       "  <tbody>\n",
       "    <tr>\n",
       "      <th>6751</th>\n",
       "      <td>38278645</td>\n",
       "      <td>28082621</td>\n",
       "      <td>JR</td>\n",
       "      <td>JR</td>\n",
       "      <td>jr funny little boy desperately needs furever ...</td>\n",
       "      <td>jr funny little boy desparately needs furever ...</td>\n",
       "      <td>Jack Russell Terrier</td>\n",
       "      <td>Jack Russell Terrier</td>\n",
       "      <td>Male</td>\n",
       "      <td>Male</td>\n",
       "      <td>0.902109</td>\n",
       "    </tr>\n",
       "    <tr>\n",
       "      <th>2064</th>\n",
       "      <td>45008032</td>\n",
       "      <td>45003858</td>\n",
       "      <td>Rosalind B sweet soul</td>\n",
       "      <td>Rosalind B sweet soul</td>\n",
       "      <td>please contact vickie dvbrooks57gmailcom infor...</td>\n",
       "      <td>meet sweet rosalind sweet soul little timid be...</td>\n",
       "      <td>Labrador Retriever</td>\n",
       "      <td>Labrador Retriever</td>\n",
       "      <td>Female</td>\n",
       "      <td>Female</td>\n",
       "      <td>0.902973</td>\n",
       "    </tr>\n",
       "    <tr>\n",
       "      <th>104</th>\n",
       "      <td>45758135</td>\n",
       "      <td>44077006</td>\n",
       "      <td>dinky</td>\n",
       "      <td>dinky</td>\n",
       "      <td>check youtube update stough little girl nothin...</td>\n",
       "      <td>little dinky came us weighing barely 15 lbs ea...</td>\n",
       "      <td>American Staffordshire Terrier</td>\n",
       "      <td>American Staffordshire Terrier</td>\n",
       "      <td>Female</td>\n",
       "      <td>Female</td>\n",
       "      <td>0.904250</td>\n",
       "    </tr>\n",
       "    <tr>\n",
       "      <th>5928</th>\n",
       "      <td>45572628</td>\n",
       "      <td>37073161</td>\n",
       "      <td>Mac</td>\n",
       "      <td>Mac</td>\n",
       "      <td>mac loyal friend life around 78 years old gorg...</td>\n",
       "      <td>mac loyal friend life around 78 years old gorg...</td>\n",
       "      <td>Cocker Spaniel</td>\n",
       "      <td>Cocker Spaniel</td>\n",
       "      <td>Male</td>\n",
       "      <td>Male</td>\n",
       "      <td>0.904599</td>\n",
       "    </tr>\n",
       "    <tr>\n",
       "      <th>7274</th>\n",
       "      <td>42564378</td>\n",
       "      <td>42549629</td>\n",
       "      <td>Gunner B lower fee</td>\n",
       "      <td>Gunner B lower fee</td>\n",
       "      <td>please contact vickie dvbrooks57gmailcom infor...</td>\n",
       "      <td>meet gunnerthis sweet retrieverlab mix 2 years...</td>\n",
       "      <td>Labrador Retriever</td>\n",
       "      <td>Labrador Retriever</td>\n",
       "      <td>Male</td>\n",
       "      <td>Male</td>\n",
       "      <td>0.905912</td>\n",
       "    </tr>\n",
       "  </tbody>\n",
       "</table>\n",
       "</div>"
      ],
      "text/plain": [
       "           id1       id2                  name1                  name2  \\\n",
       "6751  38278645  28082621                     JR                     JR   \n",
       "2064  45008032  45003858  Rosalind B sweet soul  Rosalind B sweet soul   \n",
       "104   45758135  44077006                  dinky                  dinky   \n",
       "5928  45572628  37073161                    Mac                    Mac   \n",
       "7274  42564378  42549629     Gunner B lower fee     Gunner B lower fee   \n",
       "\n",
       "                                           descrizione1  \\\n",
       "6751  jr funny little boy desperately needs furever ...   \n",
       "2064  please contact vickie dvbrooks57gmailcom infor...   \n",
       "104   check youtube update stough little girl nothin...   \n",
       "5928  mac loyal friend life around 78 years old gorg...   \n",
       "7274  please contact vickie dvbrooks57gmailcom infor...   \n",
       "\n",
       "                                           descrizione2  \\\n",
       "6751  jr funny little boy desparately needs furever ...   \n",
       "2064  meet sweet rosalind sweet soul little timid be...   \n",
       "104   little dinky came us weighing barely 15 lbs ea...   \n",
       "5928  mac loyal friend life around 78 years old gorg...   \n",
       "7274  meet gunnerthis sweet retrieverlab mix 2 years...   \n",
       "\n",
       "                      breed_primary1                  breed_primary2    sex1  \\\n",
       "6751            Jack Russell Terrier            Jack Russell Terrier    Male   \n",
       "2064              Labrador Retriever              Labrador Retriever  Female   \n",
       "104   American Staffordshire Terrier  American Staffordshire Terrier  Female   \n",
       "5928                  Cocker Spaniel                  Cocker Spaniel    Male   \n",
       "7274              Labrador Retriever              Labrador Retriever    Male   \n",
       "\n",
       "        sex2  similarity  \n",
       "6751    Male    0.902109  \n",
       "2064  Female    0.902973  \n",
       "104   Female    0.904250  \n",
       "5928    Male    0.904599  \n",
       "7274    Male    0.905912  "
      ]
     },
     "execution_count": 75,
     "metadata": {},
     "output_type": "execute_result"
    }
   ],
   "source": [
    "result_filtered.sort_values('similarity',ascending=True).head()"
   ]
  },
  {
   "cell_type": "code",
   "execution_count": 71,
   "id": "7c7ab5e1-b751-46e8-97bc-2a8c6013bb82",
   "metadata": {},
   "outputs": [],
   "source": [
    "resultdef.to_csv('resultdef.cvs')"
   ]
  },
  {
   "cell_type": "code",
   "execution_count": 76,
   "id": "ad164263-342c-41f3-b321-5e0a5b672803",
   "metadata": {},
   "outputs": [],
   "source": [
    "result_filtered.to_csv('result_filtered.cvs')"
   ]
  },
  {
   "cell_type": "code",
   "execution_count": null,
   "id": "ebfd8ee0-7ff9-4fc1-b7d1-83a15a5e7e26",
   "metadata": {},
   "outputs": [],
   "source": []
  }
 ],
 "metadata": {
  "kernelspec": {
   "display_name": "Python 3 (ipykernel)",
   "language": "python",
   "name": "python3"
  },
  "language_info": {
   "codemirror_mode": {
    "name": "ipython",
    "version": 3
   },
   "file_extension": ".py",
   "mimetype": "text/x-python",
   "name": "python",
   "nbconvert_exporter": "python",
   "pygments_lexer": "ipython3",
   "version": "3.9.13"
  }
 },
 "nbformat": 4,
 "nbformat_minor": 5
}
